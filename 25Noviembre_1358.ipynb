{
  "nbformat": 4,
  "nbformat_minor": 0,
  "metadata": {
    "colab": {
      "name": "25Noviembre_1358.ipynb",
      "provenance": [],
      "authorship_tag": "ABX9TyOd5vqsTm/n4jLFn4zVX08j",
      "include_colab_link": true
    },
    "kernelspec": {
      "name": "python3",
      "display_name": "Python 3"
    }
  },
  "cells": [
    {
      "cell_type": "markdown",
      "metadata": {
        "id": "view-in-github",
        "colab_type": "text"
      },
      "source": [
        "<a href=\"https://colab.research.google.com/github/ikneelagare/edd_1358_2021/blob/master/25Noviembre_1358.ipynb\" target=\"_parent\"><img src=\"https://colab.research.google.com/assets/colab-badge.svg\" alt=\"Open In Colab\"/></a>"
      ]
    },
    {
      "cell_type": "code",
      "metadata": {
        "id": "-kt-7uiRP5bz"
      },
      "source": [
        "class NodoDoble:\n",
        "  def __init__(self, value, previo = None, siguiente = None):\n",
        "    self.dato = value\n",
        "    self.previo = previo\n",
        "    self.siguiente = siguiente\n",
        "\n",
        "class DoubleLinkedlist:\n",
        "  def __init__(self):\n",
        "    self.__head = None\n",
        "    self.__tail = None\n",
        "    self.__size = 0\n",
        "  \n",
        "  def get_size(self):\n",
        "    return self.__size\n",
        "  \n",
        "  def is_empty(self):\n",
        "    return self.__size == 0\n",
        "\n",
        "  def append( self,value):\n",
        "    if self.is_empty():\n",
        "      nuevo = NodoDoble(value)\n",
        "      self.__head = nuevo\n",
        "      self.__tail = nuevo\n",
        "    else:\n",
        "      nuevo = NodoDoble(value, self.__tail,None)\n",
        "      self.__tail.siguiente = nuevo\n",
        "      self.__tail = nuevo\n",
        "    self.__size += 1\n",
        "\n",
        "  def transversal(self):\n",
        "    curr_node = self.__head\n",
        "    while curr_node != None:\n",
        "      print(\"<--\", curr_node.dato,\"-->\", end=\"\")\n",
        "      curr_node = curr_node.siguiente\n",
        "    print(\"\")\n",
        "\n",
        "  def remove_from_head(self,value):\n",
        "    if self.is_empty():\n",
        "      pass\n",
        "    else:\n",
        "      curr_node = self.__head\n",
        "      while curr_node.dato != value and curr_node != None:\n",
        "        curr_node = curr_node.siguiente\n",
        "      if curr_node.dato == value:\n",
        "        curr_node.previo.siguiente = curr_node.siguiente\n",
        "        curr_node.siguiente.previo = curr_node.previo\n",
        "    self.__size -= 1\n",
        "\n",
        "\n",
        "\n",
        "  "
      ],
      "execution_count": 10,
      "outputs": []
    },
    {
      "cell_type": "code",
      "metadata": {
        "colab": {
          "base_uri": "https://localhost:8080/"
        },
        "id": "DYDhWAMiTgbC",
        "outputId": "c45c54db-d81d-4355-842b-8f63fbf83580"
      },
      "source": [
        "ldl = DoubleLinkedlist()\n",
        "print(ldl.get_size())\n",
        "ldl.append(10)\n",
        "print(ldl.get_size())\n",
        "ldl.transversal()\n",
        "ldl.append(20)\n",
        "ldl.append(30)\n",
        "ldl.transversal()\n",
        "print(ldl.get_size())\n",
        "ldl.remove_from_head(20)\n",
        "print(ldl.transversal())\n",
        "\n"
      ],
      "execution_count": 11,
      "outputs": [
        {
          "output_type": "stream",
          "text": [
            "0\n",
            "1\n",
            "<-- 10 -->\n",
            "<-- 10 --><-- 20 --><-- 30 -->\n",
            "3\n",
            "<-- 10 --><-- 30 -->\n",
            "None\n"
          ],
          "name": "stdout"
        }
      ]
    }
  ]
}