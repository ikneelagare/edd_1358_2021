{
  "nbformat": 4,
  "nbformat_minor": 0,
  "metadata": {
    "colab": {
      "name": "Untitled9.ipynb",
      "provenance": [],
      "authorship_tag": "ABX9TyNMVs2D0BI0OBabgkYpGDUh",
      "include_colab_link": true
    },
    "kernelspec": {
      "name": "python3",
      "display_name": "Python 3"
    }
  },
  "cells": [
    {
      "cell_type": "markdown",
      "metadata": {
        "id": "view-in-github",
        "colab_type": "text"
      },
      "source": [
        "<a href=\"https://colab.research.google.com/github/ikneelagare/edd_1358_2021/blob/master/Untitled9.ipynb\" target=\"_parent\"><img src=\"https://colab.research.google.com/assets/colab-badge.svg\" alt=\"Open In Colab\"/></a>"
      ]
    },
    {
      "cell_type": "code",
      "metadata": {
        "id": "o0Egcj0Dj-em"
      },
      "source": [
        "class NodoArbol:\r\n",
        "  def __init__(self, value, left = None, right = None):\r\n",
        "    self.data = value\r\n",
        "    self.left = left\r\n",
        "    self.right = right"
      ],
      "execution_count": 1,
      "outputs": []
    },
    {
      "cell_type": "code",
      "metadata": {
        "id": "kuam6uVEkbAY"
      },
      "source": [
        "class ArbolBinarioBusqueda:\r\n",
        "  def __init__(self):\r\n",
        "    self.__root = None\r\n",
        "\r\n",
        "  def insert(self,value):\r\n",
        "    if self.__root == None:\r\n",
        "      self.__root = NodoArbol(value)\r\n",
        "    else:\r\n",
        "      self.__insert__(self.__root, value)\r\n",
        "  \r\n",
        "  def __insert__(self, nodo, value):\r\n",
        "    if nodo.data == value:\r\n",
        "      print(\"El nodo ya existe, no se pueded insetar\", value)\r\n",
        "\r\n",
        "    elif value < nodo.data:\r\n",
        "      if nodo.left == None:\r\n",
        "        nodo.left = NodoArbol(value, None, None)\r\n",
        "      else:\r\n",
        "        self.__insert__(nodo.left, value)\r\n",
        "    else:\r\n",
        "      if nodo.right == None:\r\n",
        "        nodo.right = NodoArbol(value, None, None)  \r\n",
        "      else:\r\n",
        "        self.__insert__(nodo.right, value)\r\n",
        "    \r\n"
      ],
      "execution_count": 10,
      "outputs": []
    },
    {
      "cell_type": "code",
      "metadata": {
        "colab": {
          "base_uri": "https://localhost:8080/"
        },
        "id": "NU8Fbja4mLND",
        "outputId": "f24394f6-2896-4e07-f7d9-16638bd42958"
      },
      "source": [
        "abb = ArbolBinarioBusqueda()\r\n",
        "abb.insert(40)\r\n",
        "abb.insert(40)\r\n",
        "abb.insert(30)\r\n",
        "abb.insert(30)"
      ],
      "execution_count": 11,
      "outputs": [
        {
          "output_type": "stream",
          "text": [
            "El nodo ya existe, no se pueded insetar 40\n",
            "El nodo ya existe, no se pueded insetar 30\n"
          ],
          "name": "stdout"
        }
      ]
    }
  ]
}