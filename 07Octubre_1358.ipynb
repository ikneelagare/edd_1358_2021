{
  "nbformat": 4,
  "nbformat_minor": 0,
  "metadata": {
    "colab": {
      "name": "07Octubre_1358.ipynb",
      "provenance": [],
      "authorship_tag": "ABX9TyMOlfmEoqfQRj+SZbfCNQ2g",
      "include_colab_link": true
    },
    "kernelspec": {
      "name": "python3",
      "display_name": "Python 3"
    }
  },
  "cells": [
    {
      "cell_type": "markdown",
      "metadata": {
        "id": "view-in-github",
        "colab_type": "text"
      },
      "source": [
        "<a href=\"https://colab.research.google.com/github/ikneelagare/edd_1358_2021/blob/master/07Octubre_1358.ipynb\" target=\"_parent\"><img src=\"https://colab.research.google.com/assets/colab-badge.svg\" alt=\"Open In Colab\"/></a>"
      ]
    },
    {
      "cell_type": "code",
      "metadata": {
        "id": "5ol1vQq_m3HO",
        "outputId": "43a3abbd-c9a0-4602-d418-0eb7ac84c149",
        "colab": {
          "base_uri": "https://localhost:8080/"
        }
      },
      "source": [
        "# Listas multidimension\n",
        "\n",
        "autos = [\"Mazda\",\"honda\",\"Akura\",\"Ford\",\"VW\"]\n",
        "telefonos = [\"iPhone\",\"Huawei Mate 30\", \"Xiaomi S10\",\"Alcatel t1000\"]\n",
        "sistemas_operativos = [ \"Windows\", \"Linux\" , \"Android\" , \"iOS\" ,\"MacOs\" ]\n",
        "procesadores = [[\"Intel\",3.1,True],[\"AMD\",2.7,False],[\"Motorola\",1.1,False]]\n",
        "\n",
        "lista_2d = [autos,telefonos,sistemas_operativos,procesadores]\n",
        "print(lista_2d)\n",
        "print(lista_2d[1][1][-1:-8:-1])\n",
        "print(lista_2d[3][0][0][-2:-5:-1])\n",
        "print(lista_2d[3][0][0][3:0:-1])\n",
        "\n",
        "#Concatenar Listas\n",
        "colores = [\"Rojo\",\"Verde\",\"Azul\",\"Negro\"]\n",
        "flores = [\"Margarita\",\"Rosa\"]\n",
        "nueva = colores + flores\n",
        "print(nueva)\n",
        "\n",
        "#Con extends\n",
        "\n",
        "colores.extend(flores)\n",
        "print(colores)\n",
        "\n",
        "#unpacking de listas\n",
        "\n",
        "print(\"unpacking\")\n",
        "datos_personales = [\"Jose\",\"Perez\",\"Juearez\",22,1.27,True]\n",
        "\n",
        "print(f\"Nombre:{Nombre} \\n Edad: {Edad}\")\n",
        "\n"
      ],
      "execution_count": 24,
      "outputs": [
        {
          "output_type": "stream",
          "text": [
            "[['Mazda', 'honda', 'Akura', 'Ford', 'VW'], ['iPhone', 'Huawei Mate 30', 'Xiaomi S10', 'Alcatel t1000'], ['Windows', 'Linux', 'Android', 'iOS', 'MacOs'], [['Intel', 3.1, True], ['AMD', 2.7, False], ['Motorola', 1.1, False]]]\n",
            "03 etaM\n",
            "etn\n",
            "etn\n",
            "['Rojo', 'Verde', 'Azul', 'Negro', 'Margarita', 'Rosa']\n"
          ],
          "name": "stdout"
        }
      ]
    },
    {
      "cell_type": "code",
      "metadata": {
        "id": "K9Q6z6uDGmpt",
        "outputId": "4e2c3abb-f776-4448-d9bc-0673394eb00b",
        "colab": {
          "base_uri": "https://localhost:8080/"
        }
      },
      "source": [
        "#Tuplas\n",
        "bd = (\"127.0.0.1\", \"root\",\"toor\",\"1345\")\n",
        "print(f\"Usuario de bd es {bd[1]}\")\n",
        "\n",
        "# bd[i] = user1\n",
        "print(bd[1:3])\n"
      ],
      "execution_count": 36,
      "outputs": [
        {
          "output_type": "stream",
          "text": [
            "Usuario de bd es root\n",
            "('root', 'toor')\n"
          ],
          "name": "stdout"
        }
      ]
    },
    {
      "cell_type": "code",
      "metadata": {
        "id": "W9QSL8UYHWRm",
        "outputId": "93d6535f-f2fd-40be-e2b9-ea4935df32cb",
        "colab": {
          "base_uri": "https://localhost:8080/"
        }
      },
      "source": [
        "#Diccionarios\n",
        "alumno = {\"nombre\" : \"luis\", \"edad\" : 20, \"carrera\" : \"ico\"}\n",
        "print(alumno)\n",
        "print(alumno[\"edad\"])\n",
        "alumno =  {\n",
        "    \"nombre\" : \"Luis\",\n",
        "    \"edad\" : 20,\n",
        "    \"carrera\": \"ICO\",\n",
        "    \"direccion\" : {\n",
        "         \"Calle\" : \"sauces\",\n",
        "         \"Casa\" :303,\n",
        "         \"municipio\" : \"Cuautitlan\",\n",
        "         \"Estado\" : 15,\n",
        "         \"nombre_Estado\" : \"Estado de Mexico\"\n",
        "    }                   \n",
        "   }\n",
        "print(alumno[\"direccion\"])"
      ],
      "execution_count": 34,
      "outputs": [
        {
          "output_type": "stream",
          "text": [
            "{'nombre': 'luis', 'edad': 20, 'carrera': 'ico'}\n",
            "20\n",
            "{'Calle': 'sauces', 'Casa': 303, 'municipio': 'Cuautitlan', 'Estado': 15, 'nombre_Estado': 'Estado de Mexico'}\n"
          ],
          "name": "stdout"
        }
      ]
    }
  ]
}