{
  "nbformat": 4,
  "nbformat_minor": 0,
  "metadata": {
    "colab": {
      "name": "05Octubre_1358.ipynb",
      "provenance": [],
      "authorship_tag": "ABX9TyNeAF5c0poaXKAXsU2jRdkK",
      "include_colab_link": true
    },
    "kernelspec": {
      "name": "python3",
      "display_name": "Python 3"
    }
  },
  "cells": [
    {
      "cell_type": "markdown",
      "metadata": {
        "id": "view-in-github",
        "colab_type": "text"
      },
      "source": [
        "<a href=\"https://colab.research.google.com/github/ikneelagare/edd_1358_2021/blob/master/05Octubre_1358.ipynb\" target=\"_parent\"><img src=\"https://colab.research.google.com/assets/colab-badge.svg\" alt=\"Open In Colab\"/></a>"
      ]
    },
    {
      "cell_type": "code",
      "metadata": {
        "id": "bA3lKcXeSwOR",
        "outputId": "342326f0-9efb-428e-c6f1-be5f041c303b",
        "colab": {
          "base_uri": "https://localhost:8080/",
          "height": 85
        }
      },
      "source": [
        "precio = 12.5\n",
        "cantidad = 2\n",
        "existencia = True\n",
        "\n",
        "# Precio de los takis es de 12.5 y quiero 2 hay?: True\n",
        "\n",
        "print(\"El precio de los takis es $\",precio, \"y quiero\",cantidad, \", hay?:\",existencia,)\n",
        "\n",
        "# Format de la clase strs\n",
        "\n",
        "print(\"El precio de los takis es {0} y quiero {1}  hay?: {2}\".format(precio,cantidad,existencia))\n",
        "print(\"El precio de los takis es {2} y quiero {1}  hay?: {0}\".format(precio,cantidad,existencia))\n",
        "\n",
        "# Operador f\"\n",
        "\n",
        "print(f\"El precio de los takis es de {precio} y quiero {cantidad} , hay?: {existencia}\")\n"
      ],
      "execution_count": 8,
      "outputs": [
        {
          "output_type": "stream",
          "text": [
            "El precio de los takis es $ 12.5 y quiero 2 , hay?: True\n",
            "El precio de los takis es 12.5 y quiero 2  hay?: True\n",
            "El precio de los takis es True y quiero 2  hay?: 12.5\n",
            "El precio de los takis es de 12.5 y quiero 2 , hay?: True\n"
          ],
          "name": "stdout"
        }
      ]
    },
    {
      "cell_type": "markdown",
      "metadata": {
        "id": "NIPYRs7WYWuh"
      },
      "source": [
        "#Lista \n",
        "Declaracion[] Seleccion[]mutables\n",
        "\n",
        "#Tuplas\n",
        "Declaracion() Seleccion[] Inmutables\n",
        "\n",
        "#Diccionarios\n",
        "\n",
        "\n",
        "#Conjuntos"
      ]
    },
    {
      "cell_type": "markdown",
      "metadata": {
        "id": "MZqmZpaeZiQU"
      },
      "source": [
        "#Conjuntos\n",
        "gupo de elememtos con la teoria de conjuntos operaciones de conjuntos\n"
      ]
    },
    {
      "cell_type": "code",
      "metadata": {
        "id": "mjDi04KxZv5g",
        "outputId": "6110ac76-6e49-4f68-bcae-9670244a911b",
        "colab": {
          "base_uri": "https://localhost:8080/",
          "height": 442
        }
      },
      "source": [
        "# Listas\n",
        "materias = [\"Cyp\",\"DAA\",\"EDD\",\"ISS\",\"POO\"]\n",
        "print(materias)\n",
        "print(materias[2])\n",
        "print(materias[-1])\n",
        "print(materias[4])\n",
        "print(materias[::-1])\n",
        "\n",
        "# Crear una lista a partir de una Srting\n",
        "fecha = \"05/Oct/2020\"\n",
        "lista_fecha = fecha.split(\"/\")\n",
        "print(lista_fecha)\n",
        "\n",
        "# Crear una String a partir de una lista\n",
        "lista_hora = [\"15\",\"22\",\"47\"]\n",
        "hora = \":\".join(lista_hora)\n",
        "print(hora)\n",
        "\n",
        "print(\"----------------\")\n",
        "print(materias)\n",
        "print(lista_fecha)\n",
        "print(lista_hora)\n",
        "\n",
        "materias[0] = \"Computadoras y Programacion\"\n",
        "print(materias)\n",
        "\n",
        "# Agregar\n",
        "materias.append(\"Calidad\")\n",
        "print(materias)\n",
        "materias.insert(2,\"Emprendimiento\")\n",
        "print(materias)\n",
        "materia = materias.pop()\n",
        "print(materia)\n",
        "print(materias)\n",
        "materia = materias.pop(1)\n",
        "print(materia)\n",
        "\n",
        "# Vaciar listas\n",
        "materias.clear()\n",
        "print(materias)\n",
        "\n",
        "# Slicing\n",
        "print(\"Slicing\")\n",
        "numeros = [0,1,2,3,4,5,6,7,8,9,10]\n",
        "print(numeros)\n",
        "print(numeros[4:9:1])\n",
        "print(numeros[4::1])\n",
        "print(numeros[4:9])\n",
        "print(numeros[:4:-1])\n",
        "\n",
        "#Sustir¡tuir segmento con slicing [0,1,2,3,-2,9,10]\n",
        "\n",
        "numeros[4:9:1] = [-2] \n",
        "print(numeros)"
      ],
      "execution_count": 34,
      "outputs": [
        {
          "output_type": "stream",
          "text": [
            "['Cyp', 'DAA', 'EDD', 'ISS', 'POO']\n",
            "EDD\n",
            "POO\n",
            "POO\n",
            "['POO', 'ISS', 'EDD', 'DAA', 'Cyp']\n",
            "['05', 'Oct', '2020']\n",
            "15:22:47\n",
            "----------------\n",
            "['Cyp', 'DAA', 'EDD', 'ISS', 'POO']\n",
            "['05', 'Oct', '2020']\n",
            "['15', '22', '47']\n",
            "['Computadoras y Programacion', 'DAA', 'EDD', 'ISS', 'POO']\n",
            "['Computadoras y Programacion', 'DAA', 'EDD', 'ISS', 'POO', 'Calidad']\n",
            "['Computadoras y Programacion', 'DAA', 'Emprendimiento', 'EDD', 'ISS', 'POO', 'Calidad']\n",
            "Calidad\n",
            "['Computadoras y Programacion', 'DAA', 'Emprendimiento', 'EDD', 'ISS', 'POO']\n",
            "DAA\n",
            "[]\n",
            "Slicing\n",
            "[0, 1, 2, 3, 4, 5, 6, 7, 8, 9, 10]\n",
            "[4, 5, 6, 7, 8]\n",
            "[4, 5, 6, 7, 8, 9, 10]\n",
            "[4, 5, 6, 7, 8]\n",
            "[10, 9, 8, 7, 6, 5]\n",
            "[0, 1, 2, 3, -2, 9, 10]\n"
          ],
          "name": "stdout"
        }
      ]
    },
    {
      "cell_type": "code",
      "metadata": {
        "id": "q2f7cBYKiL07",
        "outputId": "d4673edc-9a30-4d56-8d2b-62fd749f2894",
        "colab": {
          "base_uri": "https://localhost:8080/",
          "height": 51
        }
      },
      "source": [
        "autos = [\"Mazda\",\"Honda\",\"Akura\",\"Ford\",\"VW\"]\n",
        "telefonos = [\"Iphone\",\"Huawei Mate 30\", \"Xiaomi Redmi\",\"Alcatel\"]\n",
        "sistemas_operativos= [\"Windows\",\"Linux\",\"Andorid\",\"iOS\",\"MacOs\"]\n",
        "\n",
        "lista_2d = [autos,telefonos,sistemas_operativos]\n",
        "print(lista_2d)\n",
        "print(lista_2d[0][2])\n"
      ],
      "execution_count": 37,
      "outputs": [
        {
          "output_type": "stream",
          "text": [
            "[['Mazda', 'Honda', 'Akura', 'Ford', 'VW'], ['Iphone', 'Huawei Mate 30', 'Xiaomi Redmi', 'Alcatel'], ['Windows', 'Linux', 'Andorid', 'iOS', 'MacOs']]\n",
            "Akura\n"
          ],
          "name": "stdout"
        }
      ]
    }
  ]
}