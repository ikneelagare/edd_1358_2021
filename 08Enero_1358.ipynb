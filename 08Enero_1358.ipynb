{
  "nbformat": 4,
  "nbformat_minor": 0,
  "metadata": {
    "colab": {
      "name": "08Enero_1358.ipynb",
      "provenance": [],
      "authorship_tag": "ABX9TyMxgY9ZFODVeooYv35zO7rV",
      "include_colab_link": true
    },
    "kernelspec": {
      "name": "python3",
      "display_name": "Python 3"
    }
  },
  "cells": [
    {
      "cell_type": "markdown",
      "metadata": {
        "id": "view-in-github",
        "colab_type": "text"
      },
      "source": [
        "<a href=\"https://colab.research.google.com/github/ikneelagare/edd_1358_2021/blob/master/08Enero_1358.ipynb\" target=\"_parent\"><img src=\"https://colab.research.google.com/assets/colab-badge.svg\" alt=\"Open In Colab\"/></a>"
      ]
    },
    {
      "cell_type": "code",
      "metadata": {
        "id": "Tj8DoKSjpaPz"
      },
      "source": [
        "class Queue:\r\n",
        "  def __init__(self):\r\n",
        "    self.__data = list()\r\n",
        "  def is_empty(self):\r\n",
        "    return len(self.__data) == 0\r\n",
        "  def lenght(self):\r\n",
        "    return lenght(self.___data)\r\n",
        "  def enqueue(self,item):\r\n",
        "    self.__data.append(item)\r\n",
        "  def dequeue(self):\r\n",
        "    if not self.is_empty():\r\n",
        "      print(self.__data.pop(0))\r\n",
        "    else:\r\n",
        "      return None\r\n",
        "  def to_string(self):\r\n",
        "    cadena = \"\"\r\n",
        "    for i in self.__data:\r\n",
        "      cadena = cadena + \"|\" + elem\r\n",
        "    cadena = cadena + \"|\"\r\n",
        "    print(\"|\")\r\n",
        "\r\n"
      ],
      "execution_count": null,
      "outputs": []
    },
    {
      "cell_type": "code",
      "metadata": {
        "id": "H8ETmPVxpcK4"
      },
      "source": [
        "class BoundedPriorityQueue:\r\n",
        "  def __init__(self, niveles):\r\n",
        "    self.__data = [Queue() for x in range(niveles)]\r\n",
        "\r\n",
        "  def __init__(self, niveles):\r\n",
        "        self.__data = [Queue() for x in range(niveles)]\r\n",
        "  def is_empty(self):\r\n",
        "        return self.__size == 0\r\n",
        "\r\n",
        "  def lenght(self):\r\n",
        "        return self.__size\r\n",
        "\r\n",
        "  def enqueue(self, prioridad, elem):\r\n",
        "        if prioridad < len(self.__data) and prioridad >= 0:\r\n",
        "          self.__data[prioridad].enqueue(elem)\r\n",
        "          self.__size += 1\r\n",
        "\r\n",
        "        else:\r\n",
        "          print(\"Prioridad fuera de rango\")\r\n",
        "  def dequeue(self):\r\n",
        "    if not self.is_empty():\r\n",
        "      nivel = 0\r\n",
        "      while self.__data[nivel].is_empty():\r\n",
        "        nivel += 1\r\n",
        "      return self.__data[nivel].dequeue()\r\n",
        "\r\n",
        "  def to_string(self):\r\n",
        "    for nivel in rang(len(self.__data)):\r\n",
        "      print(f\"Nivel {nievel} --> {self.__data[nivel].to_string()} \")\r\n",
        "\r\n"
      ],
      "execution_count": null,
      "outputs": []
    },
    {
      "cell_type": "code",
      "metadata": {
        "colab": {
          "base_uri": "https://localhost:8080/",
          "height": 350
        },
        "id": "LjdahpIo2GFh",
        "outputId": "90e137ff-9ed1-4618-813c-335ed8699990"
      },
      "source": [
        "cpa = BoundedPriorityQueue(5)\r\n",
        "\r\n",
        "\"\"\"\r\n",
        "prioridad     nombre\r\n",
        "2             Diana\r\n",
        "3             Santiago\r\n",
        "0             Roberto\r\n",
        "0             Pedro\r\n",
        "2             Maria\r\n",
        "3             Jose\r\n",
        "4             Mayra\r\n",
        "4             Elena\r\n",
        "\"\"\"\r\n",
        "cpa.enqueue(2,\"Diana\")\r\n",
        "cpa.enqueue(3,\"Santiago\")\r\n",
        "cpa.enqueue(0,\"Roberto\")\r\n",
        "cpa.enqueue(0,\"Pedro\")\r\n",
        "cpa.enqueue(2,\"Maria\")\r\n",
        "cpa.enqueue(3,\"Jose\")\r\n",
        "cpa.enqueue(4,\"Mayra\")\r\n",
        "cpa.enqueue(4,\"Elena\")\r\n",
        "\r\n",
        "cpa.to_string()\r\n",
        "\r\n",
        "\r\n"
      ],
      "execution_count": null,
      "outputs": [
        {
          "output_type": "error",
          "ename": "AttributeError",
          "evalue": "ignored",
          "traceback": [
            "\u001b[0;31m---------------------------------------------------------------------------\u001b[0m",
            "\u001b[0;31mAttributeError\u001b[0m                            Traceback (most recent call last)",
            "\u001b[0;32m<ipython-input-13-f5e901e7f793>\u001b[0m in \u001b[0;36m<module>\u001b[0;34m()\u001b[0m\n\u001b[1;32m     12\u001b[0m \u001b[0;36m4\u001b[0m             \u001b[0mElena\u001b[0m\u001b[0;34m\u001b[0m\u001b[0;34m\u001b[0m\u001b[0m\n\u001b[1;32m     13\u001b[0m \"\"\"\n\u001b[0;32m---> 14\u001b[0;31m \u001b[0mcpa\u001b[0m\u001b[0;34m.\u001b[0m\u001b[0menqueue\u001b[0m\u001b[0;34m(\u001b[0m\u001b[0;36m2\u001b[0m\u001b[0;34m,\u001b[0m\u001b[0;34m\"Diana\"\u001b[0m\u001b[0;34m)\u001b[0m\u001b[0;34m\u001b[0m\u001b[0;34m\u001b[0m\u001b[0m\n\u001b[0m\u001b[1;32m     15\u001b[0m \u001b[0mcpa\u001b[0m\u001b[0;34m.\u001b[0m\u001b[0menqueue\u001b[0m\u001b[0;34m(\u001b[0m\u001b[0;36m3\u001b[0m\u001b[0;34m,\u001b[0m\u001b[0;34m\"Santiago\"\u001b[0m\u001b[0;34m)\u001b[0m\u001b[0;34m\u001b[0m\u001b[0;34m\u001b[0m\u001b[0m\n\u001b[1;32m     16\u001b[0m \u001b[0mcpa\u001b[0m\u001b[0;34m.\u001b[0m\u001b[0menqueue\u001b[0m\u001b[0;34m(\u001b[0m\u001b[0;36m0\u001b[0m\u001b[0;34m,\u001b[0m\u001b[0;34m\"Roberto\"\u001b[0m\u001b[0;34m)\u001b[0m\u001b[0;34m\u001b[0m\u001b[0;34m\u001b[0m\u001b[0m\n",
            "\u001b[0;32m<ipython-input-12-69309c17f460>\u001b[0m in \u001b[0;36menqueue\u001b[0;34m(self, prioridad, elem)\u001b[0m\n\u001b[1;32m     14\u001b[0m         \u001b[0;32mif\u001b[0m \u001b[0mprioridad\u001b[0m \u001b[0;34m<\u001b[0m \u001b[0mlen\u001b[0m\u001b[0;34m(\u001b[0m\u001b[0mself\u001b[0m\u001b[0;34m.\u001b[0m\u001b[0m__data\u001b[0m\u001b[0;34m)\u001b[0m \u001b[0;32mand\u001b[0m \u001b[0mprioridad\u001b[0m \u001b[0;34m>=\u001b[0m \u001b[0;36m0\u001b[0m\u001b[0;34m:\u001b[0m\u001b[0;34m\u001b[0m\u001b[0;34m\u001b[0m\u001b[0m\n\u001b[1;32m     15\u001b[0m           \u001b[0mself\u001b[0m\u001b[0;34m.\u001b[0m\u001b[0m__data\u001b[0m\u001b[0;34m[\u001b[0m\u001b[0mprioridad\u001b[0m\u001b[0;34m]\u001b[0m\u001b[0;34m.\u001b[0m\u001b[0menqueue\u001b[0m\u001b[0;34m(\u001b[0m\u001b[0melem\u001b[0m\u001b[0;34m)\u001b[0m\u001b[0;34m\u001b[0m\u001b[0;34m\u001b[0m\u001b[0m\n\u001b[0;32m---> 16\u001b[0;31m           \u001b[0mself\u001b[0m\u001b[0;34m.\u001b[0m\u001b[0m__size\u001b[0m \u001b[0;34m+=\u001b[0m \u001b[0;36m1\u001b[0m\u001b[0;34m\u001b[0m\u001b[0;34m\u001b[0m\u001b[0m\n\u001b[0m\u001b[1;32m     17\u001b[0m \u001b[0;34m\u001b[0m\u001b[0m\n\u001b[1;32m     18\u001b[0m         \u001b[0;32melse\u001b[0m\u001b[0;34m:\u001b[0m\u001b[0;34m\u001b[0m\u001b[0;34m\u001b[0m\u001b[0m\n",
            "\u001b[0;31mAttributeError\u001b[0m: 'BoundedPriorityQueue' object has no attribute '_BoundedPriorityQueue__size'"
          ]
        }
      ]
    }
  ]
}