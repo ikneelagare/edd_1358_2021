{
  "nbformat": 4,
  "nbformat_minor": 0,
  "metadata": {
    "colab": {
      "name": "21Octubre_1358.ipynb",
      "provenance": [],
      "authorship_tag": "ABX9TyOsYP5v4g44djC9JpntjXKD",
      "include_colab_link": true
    },
    "kernelspec": {
      "name": "python3",
      "display_name": "Python 3"
    }
  },
  "cells": [
    {
      "cell_type": "markdown",
      "metadata": {
        "id": "view-in-github",
        "colab_type": "text"
      },
      "source": [
        "<a href=\"https://colab.research.google.com/github/ikneelagare/edd_1358_2021/blob/master/21Octubre_1358.ipynb\" target=\"_parent\"><img src=\"https://colab.research.google.com/assets/colab-badge.svg\" alt=\"Open In Colab\"/></a>"
      ]
    },
    {
      "cell_type": "code",
      "metadata": {
        "id": "_1ucQQAGuZsv",
        "outputId": "64a01c4e-ea0e-4430-a438-b2bc5e97ee89",
        "colab": {
          "base_uri": "https://localhost:8080/",
          "height": 90
        }
      },
      "source": [
        "\n",
        "#Encapsulamiento tradicional\n",
        "class SmartPhone:\n",
        "  def __init__(self,m):\n",
        "    self.__marca = m\n",
        "\n",
        "  def set_marca(self,m):\n",
        "    self.__marca = m\n",
        "\n",
        "  def get_marca(self):\n",
        "    return self.__marca\n",
        "\n",
        "  def to_string(self):\n",
        "    return \"La marca del telefono es: \" + self.__marca\n",
        "\n",
        "sp1 = SmartPhone(\"Motorola\")\n",
        "print(sp1.to_string())\n",
        "\n",
        "sp1.__marca = \"IPhone Xl\"\n",
        "print(sp1.to_string())\n",
        "\n",
        "sp1.set_marca(\"Samsung\")\n",
        "print(sp1.to_string())\n",
        "\n",
        "print(sp1.get_marca())"
      ],
      "execution_count": 10,
      "outputs": [
        {
          "output_type": "stream",
          "text": [
            "La marca del telefono es: Motorola\n",
            "La marca del telefono es: Motorola\n",
            "La marca del telefono es: Samsung\n",
            "Samsung\n"
          ],
          "name": "stdout"
        }
      ]
    },
    {
      "cell_type": "code",
      "metadata": {
        "id": "Y-oMRj8rx0IG",
        "outputId": "edfd75d4-4905-497b-8d19-37c7aa0e4812",
        "colab": {
          "base_uri": "https://localhost:8080/",
          "height": 217
        }
      },
      "source": [
        "#Estilo python 3\n",
        "\n",
        "class Smartphone:\n",
        "  def __init__(self,m):\n",
        "    self.marca = m\n",
        "  \n",
        "  @property\n",
        "\n",
        "  def marca(self):\n",
        "    print(\"En el metodo get de marca\")\n",
        "    return self.__marca\n",
        "\n",
        "  @marca.setter\n",
        "  def marca(self,m):\n",
        "    if m in [\"Lenovo\", \"Sony\", \"Motorola\", \"IPhone SE\", \"Huawei\", \"Xiaomi\"]:\n",
        "     self.__marca = m\n",
        "    else:\n",
        "      print(\"Asignacion no valida\") \n",
        "\n",
        "  def to_string(self):\n",
        "    return \"Marca = \" + self.marca\n",
        "\n",
        "\n",
        "sp2 = Smartphone(\"Xiaomi\")\n",
        "print(sp2.to_string())\n",
        "sp2.__marca = \"IPhone SE\"\n",
        "print(sp2.to_string())\n",
        "sp2.marca = \"Motorola\"\n",
        "print(sp2.to_string())\n",
        "\n",
        "print(sp2.marca)\n",
        "sp2.marca = \"87235484\"\n",
        "print(sp2.to_string())\n",
        "\n"
      ],
      "execution_count": 34,
      "outputs": [
        {
          "output_type": "stream",
          "text": [
            "En el metodo get de maarca\n",
            "Marca = Xiaomi\n",
            "En el metodo get de maarca\n",
            "Marca = Xiaomi\n",
            "En el metodo get de maarca\n",
            "Marca = Motorola\n",
            "En el metodo get de maarca\n",
            "Motorola\n",
            "Asignacion no valida\n",
            "En el metodo get de maarca\n",
            "Marca = Motorola\n"
          ],
          "name": "stdout"
        }
      ]
    },
    {
      "cell_type": "code",
      "metadata": {
        "id": "mJ2TRVvb6jlC",
        "outputId": "60a4ea2c-dfdd-4bba-93a1-f87792d1fee5",
        "colab": {
          "base_uri": "https://localhost:8080/",
          "height": 92
        }
      },
      "source": [
        "class TelefonoTrabajo(Smartphone):\n",
        "  def __init__(self,m):\n",
        "    self.marca = m\n",
        "sp3 = TelefonoTrabajo(\"Motorola\")\n",
        "print(dir(sp3))\n",
        "print(sp3.to_string())\n",
        "\n",
        "\n"
      ],
      "execution_count": 35,
      "outputs": [
        {
          "output_type": "stream",
          "text": [
            "['_Smartphone__marca', '__class__', '__delattr__', '__dict__', '__dir__', '__doc__', '__eq__', '__format__', '__ge__', '__getattribute__', '__gt__', '__hash__', '__init__', '__init_subclass__', '__le__', '__lt__', '__module__', '__ne__', '__new__', '__reduce__', '__reduce_ex__', '__repr__', '__setattr__', '__sizeof__', '__str__', '__subclasshook__', '__weakref__', 'marca', 'to_string']\n",
            "En el metodo get de maarca\n",
            "Marca = Motorola\n"
          ],
          "name": "stdout"
        }
      ]
    },
    {
      "cell_type": "code",
      "metadata": {
        "id": "JgSmJFJfxipD"
      },
      "source": [
        "#Estilo python 3\n"
      ],
      "execution_count": null,
      "outputs": []
    }
  ]
}