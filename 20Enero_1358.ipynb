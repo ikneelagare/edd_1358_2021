{
  "nbformat": 4,
  "nbformat_minor": 0,
  "metadata": {
    "colab": {
      "name": "20Enero_1358.ipynb",
      "provenance": [],
      "authorship_tag": "ABX9TyPdX2ujM2Wy7WpLx+MaCDYa",
      "include_colab_link": true
    },
    "kernelspec": {
      "name": "python3",
      "display_name": "Python 3"
    }
  },
  "cells": [
    {
      "cell_type": "markdown",
      "metadata": {
        "id": "view-in-github",
        "colab_type": "text"
      },
      "source": [
        "<a href=\"https://colab.research.google.com/github/ikneelagare/edd_1358_2021/blob/master/20Enero_1358.ipynb\" target=\"_parent\"><img src=\"https://colab.research.google.com/assets/colab-badge.svg\" alt=\"Open In Colab\"/></a>"
      ]
    },
    {
      "cell_type": "code",
      "metadata": {
        "id": "LegIkO1dcb9E"
      },
      "source": [
        "class NodoArbol:\r\n",
        "  def __init__(self, value, left = None, right = None):\r\n",
        "    self.data = value\r\n",
        "    self.left = left\r\n",
        "    self.right = right"
      ],
      "execution_count": 14,
      "outputs": []
    },
    {
      "cell_type": "code",
      "metadata": {
        "id": "LsIVhuskc2RK"
      },
      "source": [
        "class ArbolBinarioBusqueda:\r\n",
        "    def __init__( self, s = None):\r\n",
        "      self.__root = s\r\n",
        "    \r\n",
        "    def insert( self, value ):\r\n",
        "        if self.__root == None:\r\n",
        "            self.__root = NodoArbol( value )\r\n",
        "        else:\r\n",
        "            self.__insert( self.__root, value )\r\n",
        "\r\n",
        "    def __insert__( self, nodo, value ): # recursividad\r\n",
        "        if nodo.data == value:\r\n",
        "            print(\"El nodo ya existe, no se inserta:\", value)\r\n",
        "        elif value < nodo.data:\r\n",
        "            #ir a la izq\r\n",
        "            if nodo.left == None:\r\n",
        "                nodo.left = NodoArbol( value, None, None )\r\n",
        "            else:\r\n",
        "                self.__insert__( nodo.left, value )\r\n",
        "        else:\r\n",
        "            #ir a la derecha\r\n",
        "            if nodo.right == None:\r\n",
        "                nodo.right = NodoArbol( value, None, None )\r\n",
        "            else:\r\n",
        "                self.__insert__( nodo.right, value )\r\n",
        "\r\n",
        "    def transversal( self, format=\"in\" ): # in, pos, pre\r\n",
        "        if format==\"in\" :\r\n",
        "            print(\"\\nrecorrido in\")\r\n",
        "            self.__recorrido__in( self._root )\r\n",
        "        elif format==\"pre\":\r\n",
        "            print(\"\\nrecorrido en pre orden\")\r\n",
        "            self._recorrido__pre( self._root)\r\n",
        "        elif format==\"pos\":\r\n",
        "            print(\"\\nrecorrido en pos orden\")\r\n",
        "            self.__recorrido__pos( self._root)\r\n",
        "        else:\r\n",
        "            print(\"\\nformato no valido\")\r\n",
        "    \r\n",
        "    def __recorrido_in( self, nodo ):\r\n",
        "        if nodo == None:\r\n",
        "            #print(\"Caso base\")\r\n",
        "            pass\r\n",
        "        else:\r\n",
        "            self.__recorrido__in( nodo.left )\r\n",
        "            print(nodo.data, end=\",\" )\r\n",
        "            self.__recorrido__in( nodo.right )\r\n",
        "\r\n",
        "    def __recorrido_pre( self, nodo ):\r\n",
        "        if nodo == None:\r\n",
        "            #print(\"Caso base\")\r\n",
        "            pass\r\n",
        "        else:\r\n",
        "            print(nodo.data, end=\",\" )\r\n",
        "            self.__recorrido__in( nodo.left )\r\n",
        "            self.__recorrido__in( nodo.right )\r\n",
        "\r\n",
        "    def __recorrido_pos( self, nodo ):\r\n",
        "        if nodo == None:\r\n",
        "            #print(\"Caso base\")\r\n",
        "            pass\r\n",
        "        else:\r\n",
        "            self.__recorrido__in( nodo.left )\r\n",
        "            self.__recorrido__in( nodo.right )\r\n",
        "            print(nodo.data, end=\",\" )\r\n",
        "    def __recorrido__pre(self, nodo):\r\n",
        "      if nodo == none:\r\n",
        "        pass\r\n",
        "      else:\r\n",
        "        self.__recorrido_pos(nodo.left)\r\n",
        "        self.__recorrido_pos(nodo.right)\r\n",
        "        print(nodo.data, end=\",\")\r\n",
        "    \r\n",
        "    def __recorrido__pre(self, nodo):\r\n",
        "      if nodo == None:\r\n",
        "        pass\r\n",
        "      else:\r\n",
        "        self.__recorrido__pro(nodo.left)\r\n",
        "        self.__recorrido__pre(nodo.right)\r\n",
        "        return self.__search(self.__root, value)\r\n",
        "\r\n",
        "    def __search__(self,modo,value):\r\n",
        "      if nodo == None:\r\n",
        "        return None\r\n",
        "      elif nodo.data == value:\r\n",
        "        return nodo\r\n",
        "      elif value < nodo.data:\r\n",
        "        print(\"Ir a la izq\")\r\n",
        "        return self.__search(nodo.left,value)\r\n",
        "      elif value < nodo.data:\r\n",
        "        print(\"Ir a la izquierda\")\r\n",
        "        return self.__search(nodo.left,value)\r\n",
        "      else:\r\n",
        "        print(\"Ir a la derecha\")\r\n",
        "        return self.__search(nodo.right,value)\r\n",
        "\r\n"
      ],
      "execution_count": 38,
      "outputs": []
    },
    {
      "cell_type": "code",
      "metadata": {
        "colab": {
          "base_uri": "https://localhost:8080/",
          "height": 350
        },
        "id": "0LWmQyHCdIqG",
        "outputId": "0cfef3c3-b4c5-4cb1-ca28-eef3510d96cd"
      },
      "source": [
        "abb = ArbolBinarioBusqueda()\r\n",
        "abb.insert(40)\r\n",
        "abb.insert(40)\r\n",
        "abb.insert(30)\r\n",
        "abb.insert(30)\r\n"
      ],
      "execution_count": 39,
      "outputs": [
        {
          "output_type": "error",
          "ename": "AttributeError",
          "evalue": "ignored",
          "traceback": [
            "\u001b[0;31m---------------------------------------------------------------------------\u001b[0m",
            "\u001b[0;31mAttributeError\u001b[0m                            Traceback (most recent call last)",
            "\u001b[0;32m<ipython-input-39-004296fcdec8>\u001b[0m in \u001b[0;36m<module>\u001b[0;34m()\u001b[0m\n\u001b[1;32m      1\u001b[0m \u001b[0mabb\u001b[0m \u001b[0;34m=\u001b[0m \u001b[0mArbolBinarioBusqueda\u001b[0m\u001b[0;34m(\u001b[0m\u001b[0;34m)\u001b[0m\u001b[0;34m\u001b[0m\u001b[0;34m\u001b[0m\u001b[0m\n\u001b[1;32m      2\u001b[0m \u001b[0mabb\u001b[0m\u001b[0;34m.\u001b[0m\u001b[0minsert\u001b[0m\u001b[0;34m(\u001b[0m\u001b[0;36m40\u001b[0m\u001b[0;34m)\u001b[0m\u001b[0;34m\u001b[0m\u001b[0;34m\u001b[0m\u001b[0m\n\u001b[0;32m----> 3\u001b[0;31m \u001b[0mabb\u001b[0m\u001b[0;34m.\u001b[0m\u001b[0minsert\u001b[0m\u001b[0;34m(\u001b[0m\u001b[0;36m40\u001b[0m\u001b[0;34m)\u001b[0m\u001b[0;34m\u001b[0m\u001b[0;34m\u001b[0m\u001b[0m\n\u001b[0m\u001b[1;32m      4\u001b[0m \u001b[0mabb\u001b[0m\u001b[0;34m.\u001b[0m\u001b[0minsert\u001b[0m\u001b[0;34m(\u001b[0m\u001b[0;36m30\u001b[0m\u001b[0;34m)\u001b[0m\u001b[0;34m\u001b[0m\u001b[0;34m\u001b[0m\u001b[0m\n\u001b[1;32m      5\u001b[0m \u001b[0mabb\u001b[0m\u001b[0;34m.\u001b[0m\u001b[0minsert\u001b[0m\u001b[0;34m(\u001b[0m\u001b[0;36m30\u001b[0m\u001b[0;34m)\u001b[0m\u001b[0;34m\u001b[0m\u001b[0;34m\u001b[0m\u001b[0m\n",
            "\u001b[0;32m<ipython-input-38-391affd619a1>\u001b[0m in \u001b[0;36minsert\u001b[0;34m(self, value)\u001b[0m\n\u001b[1;32m      7\u001b[0m             \u001b[0mself\u001b[0m\u001b[0;34m.\u001b[0m\u001b[0m__root\u001b[0m \u001b[0;34m=\u001b[0m \u001b[0mNodoArbol\u001b[0m\u001b[0;34m(\u001b[0m \u001b[0mvalue\u001b[0m \u001b[0;34m)\u001b[0m\u001b[0;34m\u001b[0m\u001b[0;34m\u001b[0m\u001b[0m\n\u001b[1;32m      8\u001b[0m         \u001b[0;32melse\u001b[0m\u001b[0;34m:\u001b[0m\u001b[0;34m\u001b[0m\u001b[0;34m\u001b[0m\u001b[0m\n\u001b[0;32m----> 9\u001b[0;31m             \u001b[0mself\u001b[0m\u001b[0;34m.\u001b[0m\u001b[0m__insert\u001b[0m\u001b[0;34m(\u001b[0m \u001b[0mself\u001b[0m\u001b[0;34m.\u001b[0m\u001b[0m__root\u001b[0m\u001b[0;34m,\u001b[0m \u001b[0mvalue\u001b[0m \u001b[0;34m)\u001b[0m\u001b[0;34m\u001b[0m\u001b[0;34m\u001b[0m\u001b[0m\n\u001b[0m\u001b[1;32m     10\u001b[0m \u001b[0;34m\u001b[0m\u001b[0m\n\u001b[1;32m     11\u001b[0m     \u001b[0;32mdef\u001b[0m \u001b[0m_insert_\u001b[0m\u001b[0;34m(\u001b[0m \u001b[0mself\u001b[0m\u001b[0;34m,\u001b[0m \u001b[0mnodo\u001b[0m\u001b[0;34m,\u001b[0m \u001b[0mvalue\u001b[0m \u001b[0;34m)\u001b[0m\u001b[0;34m:\u001b[0m \u001b[0;31m# recursividad\u001b[0m\u001b[0;34m\u001b[0m\u001b[0;34m\u001b[0m\u001b[0m\n",
            "\u001b[0;31mAttributeError\u001b[0m: 'ArbolBinarioBusqueda' object has no attribute '_ArbolBinarioBusqueda__insert'"
          ]
        }
      ]
    },
    {
      "cell_type": "code",
      "metadata": {
        "id": "yqmDXjNrebX2"
      },
      "source": [
        "()"
      ],
      "execution_count": null,
      "outputs": []
    }
  ]
}