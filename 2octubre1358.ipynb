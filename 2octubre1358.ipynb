{
  "nbformat": 4,
  "nbformat_minor": 0,
  "metadata": {
    "colab": {
      "name": "2octubre1358.ipynb",
      "provenance": [],
      "authorship_tag": "ABX9TyN7zx7DbY5mn3/xqrCL7D2B",
      "include_colab_link": true
    },
    "kernelspec": {
      "name": "python3",
      "display_name": "Python 3"
    }
  },
  "cells": [
    {
      "cell_type": "markdown",
      "metadata": {
        "id": "view-in-github",
        "colab_type": "text"
      },
      "source": [
        "<a href=\"https://colab.research.google.com/github/ikneelagare/edd_1358_2021/blob/master/2octubre1358.ipynb\" target=\"_parent\"><img src=\"https://colab.research.google.com/assets/colab-badge.svg\" alt=\"Open In Colab\"/></a>"
      ]
    },
    {
      "cell_type": "markdown",
      "metadata": {
        "id": "ufln7qC_E9jM"
      },
      "source": [
        "# Tipos de datos\n",
        "###-string str\n",
        "###-enteros int\n",
        "###-numero flotante float\n",
        "###-logico bool\n",
        "###-numero complejo complex\n",
        "###-listas list\n",
        "###-tuplas tuple\n",
        "###-diccionario dict\n",
        "###-conjuntos set"
      ]
    },
    {
      "cell_type": "code",
      "metadata": {
        "id": "UlK0MArTFuuf"
      },
      "source": [
        "#string puede emplear `,` o \"\"\" \"\"\"\n",
        "universidad = \"      universidad     nacional     autonoma de mexico \"\n",
        "print(universidad)\n",
        "#Cuando el string es una sola palabra se usa `` -> buena practica\n",
        "carrera = \"ico\"\n",
        "area = \"software\"\n",
        "division = \"division de las ciencias fisico matematicas\"\n",
        "print(carrera,area)\n"
      ],
      "execution_count": null,
      "outputs": []
    },
    {
      "cell_type": "code",
      "metadata": {
        "id": "wflrNAg3_goh"
      },
      "source": [
        "universidad = \n",
        "print(universidad.upper())\n",
        "print(universidad)\n",
        "print(universidad.title())\n",
        "# eliminar espacios a la der e izq \\n\n",
        "universidad = universidad.strip()\n",
        "print(universidad)\n",
        "lista = universidad.split(\" \")\n",
        "print(lista)\n",
        "nueva = \"\"\n",
        "for l in lista:\n",
        "  if len(1) > 0:\n",
        "    nueva += 1 + \"\"\n",
        "print(nueva)\n",
        "numeros = \"1,2,34,56,100\"\n",
        "separados = numeros.split(\",\")\n",
        "print(separados)\n",
        "numeros_int = []\n",
        "for num in separados:\n",
        "  numeros_int.append(int(num))\n",
        "print(numeros_int)  \n",
        "print(nueva)\n",
        "print(nueva.index(\"na\"))\n",
        "print(nueva.replace(\" \", \"-\"))\n",
        "print(nueva)\n"
      ],
      "execution_count": null,
      "outputs": []
    },
    {
      "cell_type": "code",
      "metadata": {
        "id": "JVXgGzKR_58E",
        "outputId": "add03ba8-5848-4e97-8d65-4a72c9a3f0cd",
        "colab": {
          "base_uri": "https://localhost:8080/",
          "height": 34
        }
      },
      "source": [
        "print(\"criko\")"
      ],
      "execution_count": 2,
      "outputs": [
        {
          "output_type": "stream",
          "text": [
            "criko\n"
          ],
          "name": "stdout"
        }
      ]
    },
    {
      "cell_type": "markdown",
      "metadata": {
        "id": "OcvdIB-wAEZB"
      },
      "source": [
        "slicing\n"
      ]
    },
    {
      "cell_type": "code",
      "metadata": {
        "id": "pz9F9b-OAGZ6",
        "outputId": "ad88221f-c3ce-4451-e57e-e9b3b08ebb29",
        "colab": {
          "base_uri": "https://localhost:8080/",
          "height": 231
        }
      },
      "source": [
        "# selector de elementos de un str\n",
        "\n",
        "print(nueva[0])\n",
        "nueva = nueva.strip()\n",
        "print(nueva[ len(nueva) - 1]) # indexado negativo\n",
        "print(nueva[-2])\n",
        "\n",
        "# slicing \n",
        "\n",
        "print(nueva)\n",
        "print(nueva[12 : 20 : 1])\n",
        "print(nueva[-6 : : 1 ])\n",
        "\n",
        "# Mexico al reves con slicing\n",
        "\n",
        "print(nuevas[-1 : -7 : -1])\n",
        "\n",
        "# Valores por defecto [ 0 : long de la lista : -1]\n",
        "\n",
        "print(nueva[ : 4 :])\n",
        "\n"
      ],
      "execution_count": 3,
      "outputs": [
        {
          "output_type": "error",
          "ename": "NameError",
          "evalue": "ignored",
          "traceback": [
            "\u001b[0;31m---------------------------------------------------------------------------\u001b[0m",
            "\u001b[0;31mNameError\u001b[0m                                 Traceback (most recent call last)",
            "\u001b[0;32m<ipython-input-3-9a6ea73bc9c4>\u001b[0m in \u001b[0;36m<module>\u001b[0;34m()\u001b[0m\n\u001b[1;32m      1\u001b[0m \u001b[0;31m# selector de elementos de un str\u001b[0m\u001b[0;34m\u001b[0m\u001b[0;34m\u001b[0m\u001b[0;34m\u001b[0m\u001b[0m\n\u001b[1;32m      2\u001b[0m \u001b[0;34m\u001b[0m\u001b[0m\n\u001b[0;32m----> 3\u001b[0;31m \u001b[0mprint\u001b[0m\u001b[0;34m(\u001b[0m\u001b[0mnueva\u001b[0m\u001b[0;34m[\u001b[0m\u001b[0;36m0\u001b[0m\u001b[0;34m]\u001b[0m\u001b[0;34m)\u001b[0m\u001b[0;34m\u001b[0m\u001b[0;34m\u001b[0m\u001b[0m\n\u001b[0m\u001b[1;32m      4\u001b[0m \u001b[0mnueva\u001b[0m \u001b[0;34m=\u001b[0m \u001b[0mnueva\u001b[0m\u001b[0;34m.\u001b[0m\u001b[0mstrip\u001b[0m\u001b[0;34m(\u001b[0m\u001b[0;34m)\u001b[0m\u001b[0;34m\u001b[0m\u001b[0;34m\u001b[0m\u001b[0m\n\u001b[1;32m      5\u001b[0m \u001b[0mprint\u001b[0m\u001b[0;34m(\u001b[0m\u001b[0mnueva\u001b[0m\u001b[0;34m[\u001b[0m \u001b[0mlen\u001b[0m\u001b[0;34m(\u001b[0m\u001b[0mnueva\u001b[0m\u001b[0;34m)\u001b[0m \u001b[0;34m-\u001b[0m \u001b[0;36m1\u001b[0m\u001b[0;34m]\u001b[0m\u001b[0;34m)\u001b[0m\u001b[0;34m\u001b[0m\u001b[0;34m\u001b[0m\u001b[0m\n",
            "\u001b[0;31mNameError\u001b[0m: name 'nueva' is not defined"
          ]
        }
      ]
    },
    {
      "cell_type": "markdown",
      "metadata": {
        "id": "ouXwzFH0ES3y"
      },
      "source": [
        "Bool\n"
      ]
    },
    {
      "cell_type": "code",
      "metadata": {
        "id": "DAKfu6sLEUKw",
        "outputId": "0f101d4c-4248-40fb-c937-8a5ecbb4f0a7",
        "colab": {
          "base_uri": "https://localhost:8080/",
          "height": 85
        }
      },
      "source": [
        "print(bool(0))\n",
        "print(bool(423423))\n",
        "flag = 0\n",
        "print(bool(flag))\n",
        "print(True)\n"
      ],
      "execution_count": 5,
      "outputs": [
        {
          "output_type": "stream",
          "text": [
            "False\n",
            "True\n",
            "False\n",
            "True\n"
          ],
          "name": "stdout"
        }
      ]
    },
    {
      "cell_type": "markdown",
      "metadata": {
        "id": "4aJVh-fXFUbP"
      },
      "source": [
        "Comentarios\n"
      ]
    },
    {
      "cell_type": "code",
      "metadata": {
        "id": "ya_YYlVpFV_w"
      },
      "source": [
        "# Este es un comentario simple\n",
        "\n",
        "\"\"\"\n",
        "Este es un \n",
        "comentario \n",
        "de multiple \n",
        "linea \n",
        "\"\"\""
      ],
      "execution_count": null,
      "outputs": []
    },
    {
      "cell_type": "markdown",
      "metadata": {
        "id": "WwPWyW31GF2M"
      },
      "source": [
        "##Funcion print\n",
        "hay 4 formas de usar print:\n",
        "\n",
        "\n",
        "1.   con comas\n",
        "2.   con signos\n",
        "3.   con la funcion format() de la clase string\n",
        "4.   con el operador f\"\n",
        "\n",
        "\n"
      ]
    },
    {
      "cell_type": "code",
      "metadata": {
        "id": "8uhSK2MhGHIt",
        "outputId": "288b7bb7-d705-472e-d9f0-212f49cb274f",
        "colab": {
          "base_uri": "https://localhost:8080/",
          "height": 68
        }
      },
      "source": [
        "#Con comas\n",
        "cantidad = 2 \n",
        "precio_chetos = 8\n",
        "precio_fanta = 12\n",
        "print(cantidad,precio_chetos,precio_fanta)\n",
        "\n",
        "#con signo solo opera str\n",
        "print(\"hola\" + \"mundo \")\n",
        "print(cantidad + precio_chetos + precio_fanta)\n"
      ],
      "execution_count": 7,
      "outputs": [
        {
          "output_type": "stream",
          "text": [
            "2 8 12\n",
            "holamundo \n",
            "22\n"
          ],
          "name": "stdout"
        }
      ]
    }
  ]
}