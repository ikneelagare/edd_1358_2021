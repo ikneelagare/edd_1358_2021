{
  "nbformat": 4,
  "nbformat_minor": 0,
  "metadata": {
    "colab": {
      "name": "28Octubre_1358.ipynb",
      "provenance": [],
      "authorship_tag": "ABX9TyOEQDd/sJL7LJCB1z8OgU/b",
      "include_colab_link": true
    },
    "kernelspec": {
      "name": "python3",
      "display_name": "Python 3"
    }
  },
  "cells": [
    {
      "cell_type": "markdown",
      "metadata": {
        "id": "view-in-github",
        "colab_type": "text"
      },
      "source": [
        "<a href=\"https://colab.research.google.com/github/ikneelagare/edd_1358_2021/blob/master/28Octubre_1358.ipynb\" target=\"_parent\"><img src=\"https://colab.research.google.com/assets/colab-badge.svg\" alt=\"Open In Colab\"/></a>"
      ]
    },
    {
      "cell_type": "code",
      "metadata": {
        "id": "zjClRsaSD8ND",
        "outputId": "d199444f-8842-4535-9d54-3e1e2187b486",
        "colab": {
          "base_uri": "https://localhost:8080/",
          "height": 280
        }
      },
      "source": [
        "\"\"\"\n",
        "Array\n",
        "\"\"\"\n",
        "\n",
        "class Array:\n",
        "  def __init__(self, tam):\n",
        "    self.__datos = [ 0 for x in range(tam)]\n",
        "\n",
        "  def get_item(self, index):\n",
        "    dato = 0 \n",
        "    if index >= 0 and index < len(self.__datos):\n",
        "      dato = self.__datos[index]\n",
        "\n",
        "    else:\n",
        "      print(\"Error en el indice\")\n",
        "\n",
        "    return dato  \n",
        "\n",
        "  def set_item(self, dato, index):\n",
        "    if index >= 0 and index <len(self.__datos):\n",
        "      self.__datos[index]= dato\n",
        "\n",
        "    else:\n",
        "      print(\"Error en el indice\")\n",
        "\n",
        "  def get_lenght(self):\n",
        "   \"\"\"Obtener el tamaño del arreglo\"\"\"\n",
        "   return len(self.__datos)\n",
        "\n",
        "  def  clear(self, dato):\n",
        "    self.__datos = [dato for x  in range(self.__tam)]\n",
        "\n",
        "\n",
        "  def getIterator(self):\n",
        "    return _getIterator(self.__datos)\n",
        "\n",
        "class getIterator:\n",
        "  def __init__ (self, arreglo):\n",
        "    self.__arreglo = arreglo\n",
        "    self.___indice_actual = 0 \n",
        "\n",
        "  def __iter__(self):\n",
        "    return self\n",
        "\n",
        "  def __next__(self):\n",
        "    if self.__indice_actual < len(self.__arreglo):\n",
        "      dato = self.__arreglo[self.__indice_acttual]\n",
        "      self.__indice_actual +=1\n",
        "      return dato\n",
        "\n",
        "    else:\n",
        "      raise StopIteration\n",
        "\n",
        "\n",
        "\n",
        "mi_arreglo = Array(10)\n",
        "print(mi_arreglo.get_item(20))\n",
        "mi_arreglo.set_item(2345,3)\n",
        "print(mi_arreglo.get_item(3))\n",
        "\n",
        "for x in mi_arreglo:\n",
        "  print(x)"
      ],
      "execution_count": 7,
      "outputs": [
        {
          "output_type": "stream",
          "text": [
            "Error en el indice\n",
            "0\n",
            "2345\n"
          ],
          "name": "stdout"
        },
        {
          "output_type": "error",
          "ename": "TypeError",
          "evalue": "ignored",
          "traceback": [
            "\u001b[0;31m---------------------------------------------------------------------------\u001b[0m",
            "\u001b[0;31mTypeError\u001b[0m                                 Traceback (most recent call last)",
            "\u001b[0;32m<ipython-input-7-7b27646a8905>\u001b[0m in \u001b[0;36m<module>\u001b[0;34m()\u001b[0m\n\u001b[1;32m     59\u001b[0m \u001b[0mprint\u001b[0m\u001b[0;34m(\u001b[0m\u001b[0mmi_arreglo\u001b[0m\u001b[0;34m.\u001b[0m\u001b[0mget_item\u001b[0m\u001b[0;34m(\u001b[0m\u001b[0;36m3\u001b[0m\u001b[0;34m)\u001b[0m\u001b[0;34m)\u001b[0m\u001b[0;34m\u001b[0m\u001b[0;34m\u001b[0m\u001b[0m\n\u001b[1;32m     60\u001b[0m \u001b[0;34m\u001b[0m\u001b[0m\n\u001b[0;32m---> 61\u001b[0;31m \u001b[0;32mfor\u001b[0m \u001b[0mx\u001b[0m \u001b[0;32min\u001b[0m \u001b[0mmi_arreglo\u001b[0m\u001b[0;34m:\u001b[0m\u001b[0;34m\u001b[0m\u001b[0;34m\u001b[0m\u001b[0m\n\u001b[0m\u001b[1;32m     62\u001b[0m   \u001b[0mprint\u001b[0m\u001b[0;34m(\u001b[0m\u001b[0mx\u001b[0m\u001b[0;34m)\u001b[0m\u001b[0;34m\u001b[0m\u001b[0;34m\u001b[0m\u001b[0m\n",
            "\u001b[0;31mTypeError\u001b[0m: 'Array' object is not iterable"
          ]
        }
      ]
    }
  ]
}