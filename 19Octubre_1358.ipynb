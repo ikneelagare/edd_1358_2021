{
  "nbformat": 4,
  "nbformat_minor": 0,
  "metadata": {
    "colab": {
      "name": "19Octubre_1358.ipynb",
      "provenance": [],
      "authorship_tag": "ABX9TyNqJB2wBNBJz2LHBbG9ygXi",
      "include_colab_link": true
    },
    "kernelspec": {
      "name": "python3",
      "display_name": "Python 3"
    }
  },
  "cells": [
    {
      "cell_type": "markdown",
      "metadata": {
        "id": "view-in-github",
        "colab_type": "text"
      },
      "source": [
        "<a href=\"https://colab.research.google.com/github/ikneelagare/edd_1358_2021/blob/master/19Octubre_1358.ipynb\" target=\"_parent\"><img src=\"https://colab.research.google.com/assets/colab-badge.svg\" alt=\"Open In Colab\"/></a>"
      ]
    },
    {
      "cell_type": "code",
      "metadata": {
        "id": "E4F-Y0zAZZ_Z",
        "outputId": "e5904ad7-331d-4890-8474-958aef120ffe",
        "colab": {
          "base_uri": "https://localhost:8080/",
          "height": 90
        }
      },
      "source": [
        "# Lectura\n",
        "archivo = open(\"frutas.txt\", \"rt\")\n",
        "\n",
        "info = archivo.read()\n",
        "print(info.upper())\n",
        "\n",
        "archivo.close()"
      ],
      "execution_count": 4,
      "outputs": [
        {
          "output_type": "stream",
          "text": [
            "LIMON, AGUACATE, FRESA, MANZANA\n",
            "CIRUELA, CAPULIN, NARANJA\n",
            "PERA, KIWI\n",
            "\n"
          ],
          "name": "stdout"
        }
      ]
    },
    {
      "cell_type": "code",
      "metadata": {
        "id": "m2l6Elbrc4jr",
        "outputId": "1d329b82-b2dc-4638-b1f9-e17b3a3b156e",
        "colab": {
          "base_uri": "https://localhost:8080/",
          "height": 90
        }
      },
      "source": [
        "# readline()\n",
        "archivo = open(\"frutas.txt\", \"rt\")\n",
        "\n",
        "info = archivo.readline()\n",
        "\n",
        "while info != \"\":\n",
        "  print(info,end=\"\")\n",
        "  info = archivo.readline()\n",
        "\n",
        "\n",
        "archivo.close\n"
      ],
      "execution_count": 12,
      "outputs": [
        {
          "output_type": "stream",
          "text": [
            "Limon, Aguacate, Fresa, Manzana\n",
            "Ciruela, Capulin, Naranja\n",
            "Pera, Kiwi\n"
          ],
          "name": "stdout"
        },
        {
          "output_type": "execute_result",
          "data": {
            "text/plain": [
              "<function TextIOWrapper.close>"
            ]
          },
          "metadata": {
            "tags": []
          },
          "execution_count": 12
        }
      ]
    },
    {
      "cell_type": "code",
      "metadata": {
        "id": "vzkA8EafgIn1",
        "outputId": "bbecbbcd-eab2-46c8-f886-89621deacd09",
        "colab": {
          "base_uri": "https://localhost:8080/",
          "height": 90
        }
      },
      "source": [
        "# readlines()\n",
        "\n",
        "archivo = open(\"frutas.txt\",\"rt\")\n",
        "\n",
        "info = archivo.readlines()\n",
        "print(info)\n",
        "\n",
        "frutas = []\n",
        "for i in info:\n",
        "  frutas.append(i.strip())\n",
        "\n",
        "frutas_final = []\n",
        "for e in frutas:\n",
        "  for fruta in e.split(\",\"):\n",
        "    frutas_final.append(fruta.strip())\n",
        "print(frutas_final)    \n",
        "\n",
        "\n",
        "\n",
        "print(frutas)\n",
        "\n",
        "archivo.close"
      ],
      "execution_count": 17,
      "outputs": [
        {
          "output_type": "stream",
          "text": [
            "['Limon, Aguacate, Fresa, Manzana\\n', 'Ciruela, Capulin, Naranja\\n', 'Pera, Kiwi\\n']\n",
            "['Limon', 'Aguacate', 'Fresa', 'Manzana', 'Ciruela', 'Capulin', 'Naranja', 'Pera', 'Kiwi']\n",
            "['Limon, Aguacate, Fresa, Manzana', 'Ciruela, Capulin, Naranja', 'Pera, Kiwi']\n"
          ],
          "name": "stdout"
        },
        {
          "output_type": "execute_result",
          "data": {
            "text/plain": [
              "<function TextIOWrapper.close>"
            ]
          },
          "metadata": {
            "tags": []
          },
          "execution_count": 17
        }
      ]
    },
    {
      "cell_type": "markdown",
      "metadata": {
        "id": "LYe8PBcBlG8p"
      },
      "source": [
        "# POO con Python\n",
        "- Clase\n",
        "- Objetos \n",
        "- Atributos\n",
        "- Metodos\n",
        "- Metdodo constructor\n",
        "- Encapsulamiento(publico y privado)\n",
        "- Herencia\n",
        "\n",
        "Para declarar clases en python se utiliza la palabra Class"
      ]
    },
    {
      "cell_type": "code",
      "metadata": {
        "id": "H50sNx0tlsSH",
        "outputId": "b9d9998c-95f4-4f91-f002-b0b98aadd38f",
        "colab": {
          "base_uri": "https://localhost:8080/",
          "height": 54
        }
      },
      "source": [
        "class Persona:\n",
        "  def __init__(self,edd, est):\n",
        "    self.edad = edd\n",
        "    self.estatura = est\n",
        "  def to_string(self):\n",
        "    print(f\"Edad = {self.edad}, Estatura = {self.estatura}\")\n",
        "\n",
        "\n",
        "per1 = Persona(19,1.65)\n",
        "per1.to_string()\n",
        "per1.estatura = 10.5\n",
        "per1.to_string()\n",
        "\n",
        "\n"
      ],
      "execution_count": 24,
      "outputs": [
        {
          "output_type": "stream",
          "text": [
            "Edad = 19, Estatura = 1.65\n",
            "Edad = 19, Estatura = 10.5\n"
          ],
          "name": "stdout"
        }
      ]
    },
    {
      "cell_type": "code",
      "metadata": {
        "id": "vOiSJEXhleaQ"
      },
      "source": [
        ""
      ],
      "execution_count": null,
      "outputs": []
    }
  ]
}