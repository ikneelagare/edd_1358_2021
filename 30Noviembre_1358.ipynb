{
  "nbformat": 4,
  "nbformat_minor": 0,
  "metadata": {
    "colab": {
      "name": "30Noviembre_1358.ipynb",
      "provenance": [],
      "authorship_tag": "ABX9TyOgDwvaUutAkjlMloyY7vg9",
      "include_colab_link": true
    },
    "kernelspec": {
      "name": "python3",
      "display_name": "Python 3"
    }
  },
  "cells": [
    {
      "cell_type": "markdown",
      "metadata": {
        "id": "view-in-github",
        "colab_type": "text"
      },
      "source": [
        "<a href=\"https://colab.research.google.com/github/ikneelagare/edd_1358_2021/blob/master/30Noviembre_1358.ipynb\" target=\"_parent\"><img src=\"https://colab.research.google.com/assets/colab-badge.svg\" alt=\"Open In Colab\"/></a>"
      ]
    },
    {
      "cell_type": "code",
      "metadata": {
        "id": "ztpM8mevAxpl"
      },
      "source": [
        "class Stack:\n",
        "  def __init__(self):\n",
        "    self.__dato = []\n",
        "    self.__size = 0\n",
        "\n",
        "  def pop(self):\n",
        "    return self.__dato.pop()\n",
        "\n",
        "  def peek(self):\n",
        "    return self.__dato[-1]\n",
        "\n",
        "  def append(self,valor):\n",
        "    self.__dato.append(valor)\n",
        "    self.__size += 1\n",
        "\n",
        "  def to_string(self):\n",
        "    print(\"----\")\n",
        "    for data in self.__dato:\n",
        "      print(f\"|{data}|\")\n",
        "      print(\"----\")\n"
      ],
      "execution_count": 23,
      "outputs": []
    },
    {
      "cell_type": "code",
      "metadata": {
        "colab": {
          "base_uri": "https://localhost:8080/"
        },
        "id": "tFH823ADCjKi",
        "outputId": "f24312a9-c344-417a-f9aa-74454602043f"
      },
      "source": [
        "pl = Stack()\n",
        "pl.append(34)\n",
        "pl.append(10)\n",
        "pl.append(45)\n",
        "pl.append(4)\n",
        "pl.append(23)\n",
        "pl.append(33)\n",
        "pl.to_string()\n",
        "valor = pl.pop()\n",
        "print(valor * 2)\n",
        "pl.to_string()\n",
        "valor = pl.peek()\n",
        "print(valor * 2)\n",
        "pl.to_string()"
      ],
      "execution_count": 24,
      "outputs": [
        {
          "output_type": "stream",
          "text": [
            "----\n",
            "|34|\n",
            "----\n",
            "|10|\n",
            "----\n",
            "|45|\n",
            "----\n",
            "|4|\n",
            "----\n",
            "|23|\n",
            "----\n",
            "|33|\n",
            "----\n",
            "66\n",
            "----\n",
            "|34|\n",
            "----\n",
            "|10|\n",
            "----\n",
            "|45|\n",
            "----\n",
            "|4|\n",
            "----\n",
            "|23|\n",
            "----\n",
            "46\n",
            "----\n",
            "|34|\n",
            "----\n",
            "|10|\n",
            "----\n",
            "|45|\n",
            "----\n",
            "|4|\n",
            "----\n",
            "|23|\n",
            "----\n"
          ],
          "name": "stdout"
        }
      ]
    },
    {
      "cell_type": "code",
      "metadata": {
        "colab": {
          "base_uri": "https://localhost:8080/"
        },
        "id": "LvQZ_e_BG-uQ",
        "outputId": "3f9b5013-9a5e-4b97-df04-0bfc74994b53"
      },
      "source": [
        "#Aplicaciones estructura Stack\n",
        "#1.- Validacion de parentesis balanceados \"(\",\"{\",\"[\"\n",
        " \n",
        "cadena = \"b =  3 * (5 + (4/2))\"\n",
        "pila = Stack()\n",
        "pila.append(\"#\") #Caracter depila vacia\n",
        "for elem in cadena:\n",
        "   if elem == \"(\":\n",
        "     pila.append(\"*\")\n",
        "\n",
        "   elif elem == \")\":\n",
        "      pila.pop()\n",
        "\n",
        "   else:\n",
        "      pass\n",
        "if pila.peek == \"#\":\n",
        "  print(\"La expresion esta balanceada por parentesis\") \n",
        "else:\n",
        "  print(\"La expresion no esta balnaceada\")\n",
        "\n"
      ],
      "execution_count": 29,
      "outputs": [
        {
          "output_type": "stream",
          "text": [
            "La expresion no esta balnaceada\n"
          ],
          "name": "stdout"
        }
      ]
    }
  ]
}