{
  "nbformat": 4,
  "nbformat_minor": 0,
  "metadata": {
    "colab": {
      "name": "12Octubre_1358.ipynb",
      "provenance": [],
      "collapsed_sections": [],
      "authorship_tag": "ABX9TyM9nxZnFKJLVpK+FCc3PwbM",
      "include_colab_link": true
    },
    "kernelspec": {
      "name": "python3",
      "display_name": "Python 3"
    }
  },
  "cells": [
    {
      "cell_type": "markdown",
      "metadata": {
        "id": "view-in-github",
        "colab_type": "text"
      },
      "source": [
        "<a href=\"https://colab.research.google.com/github/ikneelagare/edd_1358_2021/blob/master/12Octubre_1358.ipynb\" target=\"_parent\"><img src=\"https://colab.research.google.com/assets/colab-badge.svg\" alt=\"Open In Colab\"/></a>"
      ]
    },
    {
      "cell_type": "code",
      "metadata": {
        "id": "xf9WlrliWfN1",
        "outputId": "df679928-4b6e-4573-bc7d-dabfe98b8795",
        "colab": {
          "base_uri": "https://localhost:8080/",
          "height": 122
        }
      },
      "source": [
        "\n",
        "# Diccionario (continuacion)\n",
        "\n",
        "cliente_banco = {\n",
        "    \"id\" : 1,\n",
        "    \"Nombres\" : [\"Luis\", \"Enrique\"],\n",
        "    \"Paterno\" : \"Espitia \",\n",
        "    \"Materno\" : \"Naves\",\n",
        "    \"Telefonos\" : {\n",
        "        \"Casa\" : 5520641207,\n",
        "        \"Celular\" : 5677156255,\n",
        "        \"Trabajo\" : 5514805786,\n",
        "    },\n",
        "    \"Activo\" : True,\n",
        "    \"Balance\" : 356790.50,\n",
        "    \"Tarjetas_Credito\" : ({\"Tipo\" : \"Debito\", \"Saldo\": 10000},\n",
        "                          {\"Tipo\" : \"Credito\", \"Saldo\" : 12000})             \n",
        "    \n",
        "}\n",
        "\n",
        "print(cliente_banco)\n",
        "cliente_banco[\"Balance\"] = cliente_banco[\"Balance\"] - 1000.89\n",
        "cliente_banco[\"Balance\"] -= 1000.89\n",
        "print(cliente_banco)\n",
        "\n",
        "cliente_banco[\"Tarjetas\"] = ({\"Tipo\" : \"Debito\", \"Saldo\" : 10000},\n",
        "                             {\"Tipo\" : \"Credito\", \"Saldo\" : 12000},\n",
        "                             {\"Tipo\" : \"Credito\", \"Nivel\" : \"Oro\", \"Saldo\" : 500000})\n",
        "\n",
        "print(cliente_banco)\n",
        "cliente_banco[\"Direccion\"] = {\"Calle\" : \"Sauces\", \"Numero\" : 303}\n",
        "print(cliente_banco)\n",
        "cliente_banco.pop\n"
      ],
      "execution_count": 11,
      "outputs": [
        {
          "output_type": "stream",
          "text": [
            "{'id': 1, 'Nombres': ['Luis', 'Enrique'], 'Paterno': 'Espitia ', 'Materno': 'Naves', 'Telefonos': {'Casa': 5520641207, 'Celular': 5677156255, 'Trabajo': 5514805786}, 'Activo': True, 'Balance': 356790.5, 'Tarjetas_Credito': ({'Tipo': 'Debito', 'Saldo': 10000}, {'Tipo': 'Credito', 'Saldo': 12000})}\n",
            "{'id': 1, 'Nombres': ['Luis', 'Enrique'], 'Paterno': 'Espitia ', 'Materno': 'Naves', 'Telefonos': {'Casa': 5520641207, 'Celular': 5677156255, 'Trabajo': 5514805786}, 'Activo': True, 'Balance': 354788.72, 'Tarjetas_Credito': ({'Tipo': 'Debito', 'Saldo': 10000}, {'Tipo': 'Credito', 'Saldo': 12000})}\n",
            "{'id': 1, 'Nombres': ['Luis', 'Enrique'], 'Paterno': 'Espitia ', 'Materno': 'Naves', 'Telefonos': {'Casa': 5520641207, 'Celular': 5677156255, 'Trabajo': 5514805786}, 'Activo': True, 'Balance': 354788.72, 'Tarjetas_Credito': ({'Tipo': 'Debito', 'Saldo': 10000}, {'Tipo': 'Credito', 'Saldo': 12000}), 'Tarjetas': ({'Tipo': 'Debito', 'Saldo': 10000}, {'Tipo': 'Credito', 'Saldo': 12000}, {'Tipo': 'Credito', 'Nivel': 'Oro', 'Saldo': 500000})}\n",
            "{'id': 1, 'Nombres': ['Luis', 'Enrique'], 'Paterno': 'Espitia ', 'Materno': 'Naves', 'Telefonos': {'Casa': 5520641207, 'Celular': 5677156255, 'Trabajo': 5514805786}, 'Activo': True, 'Balance': 354788.72, 'Tarjetas_Credito': ({'Tipo': 'Debito', 'Saldo': 10000}, {'Tipo': 'Credito', 'Saldo': 12000}), 'Tarjetas': ({'Tipo': 'Debito', 'Saldo': 10000}, {'Tipo': 'Credito', 'Saldo': 12000}, {'Tipo': 'Credito', 'Nivel': 'Oro', 'Saldo': 500000}), 'Direccion': {'Calle': 'Sauces', 'Numero': 303}}\n"
          ],
          "name": "stdout"
        },
        {
          "output_type": "execute_result",
          "data": {
            "text/plain": [
              "<function dict.pop>"
            ]
          },
          "metadata": {
            "tags": []
          },
          "execution_count": 11
        }
      ]
    },
    {
      "cell_type": "code",
      "metadata": {
        "id": "tNfXUtU8b0c9",
        "outputId": "198a2589-5f2b-4c7d-e3f4-0f181ea7f8a0",
        "colab": {
          "base_uri": "https://localhost:8080/",
          "height": 598
        }
      },
      "source": [
        "llaves = cliente_banco.keys()\n",
        "print(llaves)\n",
        "print(type(llaves))\n",
        "for x in llaves:\n",
        "  print(x)\n",
        "\n",
        "valores = cliente_banco.values()\n",
        "for v in valores:\n",
        "  print(v)\n",
        "\n",
        "pares = cliente_banco.items()\n",
        "print(pares)\n",
        "\n",
        "for elemento in pares:\n",
        "  print(f\"{elemento[0]} = {elemento[1]}\")\n"
      ],
      "execution_count": 13,
      "outputs": [
        {
          "output_type": "stream",
          "text": [
            "dict_keys(['id', 'Nombres', 'Paterno', 'Materno', 'Telefonos', 'Activo', 'Balance', 'Tarjetas_Credito', 'Tarjetas', 'Direccion'])\n",
            "<class 'dict_keys'>\n",
            "id\n",
            "Nombres\n",
            "Paterno\n",
            "Materno\n",
            "Telefonos\n",
            "Activo\n",
            "Balance\n",
            "Tarjetas_Credito\n",
            "Tarjetas\n",
            "Direccion\n",
            "1\n",
            "['Luis', 'Enrique']\n",
            "Espitia \n",
            "Naves\n",
            "{'Casa': 5520641207, 'Celular': 5677156255, 'Trabajo': 5514805786}\n",
            "True\n",
            "354788.72\n",
            "({'Tipo': 'Debito', 'Saldo': 10000}, {'Tipo': 'Credito', 'Saldo': 12000})\n",
            "({'Tipo': 'Debito', 'Saldo': 10000}, {'Tipo': 'Credito', 'Saldo': 12000}, {'Tipo': 'Credito', 'Nivel': 'Oro', 'Saldo': 500000})\n",
            "{'Calle': 'Sauces', 'Numero': 303}\n",
            "dict_items([('id', 1), ('Nombres', ['Luis', 'Enrique']), ('Paterno', 'Espitia '), ('Materno', 'Naves'), ('Telefonos', {'Casa': 5520641207, 'Celular': 5677156255, 'Trabajo': 5514805786}), ('Activo', True), ('Balance', 354788.72), ('Tarjetas_Credito', ({'Tipo': 'Debito', 'Saldo': 10000}, {'Tipo': 'Credito', 'Saldo': 12000})), ('Tarjetas', ({'Tipo': 'Debito', 'Saldo': 10000}, {'Tipo': 'Credito', 'Saldo': 12000}, {'Tipo': 'Credito', 'Nivel': 'Oro', 'Saldo': 500000})), ('Direccion', {'Calle': 'Sauces', 'Numero': 303})])\n",
            "id = 1\n",
            "Nombres = ['Luis', 'Enrique']\n",
            "Paterno = Espitia \n",
            "Materno = Naves\n",
            "Telefonos = {'Casa': 5520641207, 'Celular': 5677156255, 'Trabajo': 5514805786}\n",
            "Activo = True\n",
            "Balance = 354788.72\n",
            "Tarjetas_Credito = ({'Tipo': 'Debito', 'Saldo': 10000}, {'Tipo': 'Credito', 'Saldo': 12000})\n",
            "Tarjetas = ({'Tipo': 'Debito', 'Saldo': 10000}, {'Tipo': 'Credito', 'Saldo': 12000}, {'Tipo': 'Credito', 'Nivel': 'Oro', 'Saldo': 500000})\n",
            "Direccion = {'Calle': 'Sauces', 'Numero': 303}\n"
          ],
          "name": "stdout"
        }
      ]
    },
    {
      "cell_type": "code",
      "metadata": {
        "id": "c95ncdO6g9O_",
        "outputId": "a68732f5-03bd-47ca-e4a7-eb4053c2ced2",
        "colab": {
          "base_uri": "https://localhost:8080/",
          "height": 34
        }
      },
      "source": [
        "fruta = {\"Nombre\" : \"Manzana\", \"Color\" : \"Rojo\", \"Estado\" : \"Chihuahua\"}\n",
        "mas_caracteristicas = {\"Vitamina\" : \"D\"}\n",
        "fruta.update(mas_caracteristicas)\n",
        "print(fruta)"
      ],
      "execution_count": 17,
      "outputs": [
        {
          "output_type": "stream",
          "text": [
            "{'Nombre': 'Manzana', 'Color': 'Rojo', 'Estado': 'Chihuahua', 'Vitamina': 'D'}\n"
          ],
          "name": "stdout"
        }
      ]
    },
    {
      "cell_type": "markdown",
      "metadata": {
        "id": "8gOjWcM_iSk4"
      },
      "source": [
        "#Funciones\n",
        "- Recibe de 0 a n argumentos de entrada\n",
        "- Regresa un solo valor, aunque el valor se a none\n",
        "- Tiene un nombre unico en el contexto\n",
        "- Se pueden hacer sol odos cosas con funciones:\n",
        " - Definerla\n",
        " - LLamarla\n",
        " \n"
      ]
    },
    {
      "cell_type": "code",
      "metadata": {
        "id": "KVHTb1fjjOIS",
        "outputId": "168b1d7a-606a-4b85-d1a2-27a95f497b49",
        "colab": {
          "base_uri": "https://localhost:8080/",
          "height": 51
        }
      },
      "source": [
        "def suma(a,b):\n",
        "  return a+b\n",
        "\n",
        "\"\"\"def suma(x,y):\n",
        "   return None\"\"\"\n",
        "\n",
        "def saludar():\n",
        "  print(\"Hola, ¿como estas?\")\n",
        "  return None\n",
        "x = 10 \n",
        "y = 20\n",
        "c = suma(x,y)\n",
        "print(c)\n",
        "\n",
        "saludar()"
      ],
      "execution_count": 25,
      "outputs": [
        {
          "output_type": "stream",
          "text": [
            "30\n",
            "Hola, ¿como estas?\n"
          ],
          "name": "stdout"
        }
      ]
    },
    {
      "cell_type": "markdown",
      "metadata": {
        "id": "9vynBP0Kk2Do"
      },
      "source": [
        "# None y las funciones\n",
        "Aprovechar en el uso de none en el paso de parametros"
      ]
    },
    {
      "cell_type": "code",
      "metadata": {
        "id": "h_EysJWolAqI",
        "outputId": "f01af3d2-e62d-4a07-bd8f-1749f266dbec",
        "colab": {
          "base_uri": "https://localhost:8080/",
          "height": 51
        }
      },
      "source": [
        "def calcular(base , veces):\n",
        "  if base != None:\n",
        "    resultado = base * veces\n",
        "  else:\n",
        "    resultado = \"Desconocido\"\n",
        "  return resultado\n",
        "\n",
        "print(calcular(4,2))\n",
        "print(calcular(None,6))"
      ],
      "execution_count": 26,
      "outputs": [
        {
          "output_type": "stream",
          "text": [
            "8\n",
            "Desconocido\n"
          ],
          "name": "stdout"
        }
      ]
    }
  ]
}