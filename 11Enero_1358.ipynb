{
  "nbformat": 4,
  "nbformat_minor": 0,
  "metadata": {
    "colab": {
      "name": "Untitled8.ipynb",
      "provenance": [],
      "authorship_tag": "ABX9TyOlTWrChsormmMnDye65T28",
      "include_colab_link": true
    },
    "kernelspec": {
      "name": "python3",
      "display_name": "Python 3"
    }
  },
  "cells": [
    {
      "cell_type": "markdown",
      "metadata": {
        "id": "view-in-github",
        "colab_type": "text"
      },
      "source": [
        "<a href=\"https://colab.research.google.com/github/ikneelagare/edd_1358_2021/blob/master/11Enero_1358.ipynb\" target=\"_parent\"><img src=\"https://colab.research.google.com/assets/colab-badge.svg\" alt=\"Open In Colab\"/></a>"
      ]
    },
    {
      "cell_type": "code",
      "metadata": {
        "id": "xAWU4AqVWDys"
      },
      "source": [
        "class NodoArbol():\r\n",
        "  def __init__(self, dato, hijo_izq = None, hijo_der = None):\r\n",
        "    self.dato = dato\r\n",
        "    self.hijo_izq = hijo_izq\r\n",
        "    self.hijo_der = hijo_der\r\n",
        "    \r\n"
      ],
      "execution_count": 1,
      "outputs": []
    },
    {
      "cell_type": "code",
      "metadata": {
        "colab": {
          "base_uri": "https://localhost:8080/"
        },
        "id": "j2XJ6V28W6J6",
        "outputId": "7c0038a3-c01b-4ea9-ef91-402ac6cbefc8"
      },
      "source": [
        "arbol = NodoArbol(\"R\")\r\n",
        "arbol.hijo_izq = NodoArbol(\"C\")\r\n",
        "arbol.hijo_der = NodoArbol(\"H\")\r\n",
        "#Imprimir el Nodo Raiz\r\n",
        "print(arbol.dato)\r\n",
        "#imporimir el hijo izq\r\n",
        "print(arbol.hijo_izq.dato)\r\n",
        "#Imprimir el hijo der\r\n",
        "print(arbol.hijo_der.dato)\r\n"
      ],
      "execution_count": 2,
      "outputs": [
        {
          "output_type": "stream",
          "text": [
            "R\n",
            "C\n",
            "H\n"
          ],
          "name": "stdout"
        }
      ]
    },
    {
      "cell_type": "code",
      "metadata": {
        "colab": {
          "base_uri": "https://localhost:8080/"
        },
        "id": "D3-3mga_Xqaz",
        "outputId": "ffa5cb5b-bc27-416c-d408-9ff9d699d0b8"
      },
      "source": [
        "arbol_v2 = NodoArbol(\"R\", NodoArbol(\"C\"), NodoArbol(\"H\"))\r\n",
        "print(arbol_v2.dato)\r\n",
        "print(arbol_v2.hijo_izq.dato)\r\n",
        "print(arbol_v2.hijo_der.dato)"
      ],
      "execution_count": 4,
      "outputs": [
        {
          "output_type": "stream",
          "text": [
            "R\n",
            "C\n",
            "H\n"
          ],
          "name": "stdout"
        }
      ]
    },
    {
      "cell_type": "code",
      "metadata": {
        "colab": {
          "base_uri": "https://localhost:8080/"
        },
        "id": "GW7ly2RsYQzf",
        "outputId": "1101c66e-9f56-42ea-e1c2-62b4339e92d2"
      },
      "source": [
        "#Ejercicio 2\r\n",
        "arbol2 = NodoArbol(4, NodoArbol(3, NodoArbol(2, NodoArbol(2))), NodoArbol(5))\r\n",
        "print(arbol2.hijo_izq.hijo_izq.hijo_izq.dato)\r\n",
        "\r\n",
        "aux = arbol2\r\n",
        "while aux.hijo_izq != None:\r\n",
        "  aux = aux.hijo_izq\r\n",
        "print(aux.dato)  "
      ],
      "execution_count": 6,
      "outputs": [
        {
          "output_type": "stream",
          "text": [
            "2\n",
            "2\n"
          ],
          "name": "stdout"
        }
      ]
    },
    {
      "cell_type": "code",
      "metadata": {
        "colab": {
          "base_uri": "https://localhost:8080/",
          "height": 214
        },
        "id": "FRMbZOXuabR3",
        "outputId": "4ad46769-e55e-4035-d689-eb82e6cd3ab5"
      },
      "source": [
        "#Ejercicio 4\r\n",
        "class NodoArbol1:\r\n",
        "  def __init__(self,dato, hijo_izq = None, hijo_cen = None, hijo_der = None ):\r\n",
        "    self.dato = dato\r\n",
        "    self.hijo_izq = hijo_izq\r\n",
        "    self.hijo_cen = hijo_cen\r\n",
        "    self.hijo_der = hijo_der\r\n",
        "arbol3 = NodoArbol2(\"R\", NodoArbol2(\"R\", None, NodoArbol2(\"X\"), None),NodoArbol(\"C\",NodoArbol2(\"Y\"),None,None),NodoArbol2(\"D\", NodoArbol2(None,None,NodoArbol2(\"E\"))))"
      ],
      "execution_count": 7,
      "outputs": [
        {
          "output_type": "error",
          "ename": "TypeError",
          "evalue": "ignored",
          "traceback": [
            "\u001b[0;31m---------------------------------------------------------------------------\u001b[0m",
            "\u001b[0;31mTypeError\u001b[0m                                 Traceback (most recent call last)",
            "\u001b[0;32m<ipython-input-7-742e756f30ea>\u001b[0m in \u001b[0;36m<module>\u001b[0;34m()\u001b[0m\n\u001b[1;32m      6\u001b[0m     \u001b[0mself\u001b[0m\u001b[0;34m.\u001b[0m\u001b[0mhijo_cen\u001b[0m \u001b[0;34m=\u001b[0m \u001b[0mhijo_cen\u001b[0m\u001b[0;34m\u001b[0m\u001b[0;34m\u001b[0m\u001b[0m\n\u001b[1;32m      7\u001b[0m     \u001b[0mself\u001b[0m\u001b[0;34m.\u001b[0m\u001b[0mhijo_der\u001b[0m \u001b[0;34m=\u001b[0m \u001b[0mhijo_der\u001b[0m\u001b[0;34m\u001b[0m\u001b[0;34m\u001b[0m\u001b[0m\n\u001b[0;32m----> 8\u001b[0;31m \u001b[0marbol\u001b[0m \u001b[0;34m=\u001b[0m \u001b[0mNodoArbol2\u001b[0m\u001b[0;34m(\u001b[0m\u001b[0;34m\"R\"\u001b[0m\u001b[0;34m,\u001b[0m \u001b[0mNodoArbol2\u001b[0m\u001b[0;34m(\u001b[0m\u001b[0;34m\"R\"\u001b[0m\u001b[0;34m,\u001b[0m \u001b[0;32mNone\u001b[0m\u001b[0;34m,\u001b[0m \u001b[0mNodoArbol2\u001b[0m\u001b[0;34m(\u001b[0m\u001b[0;34m\"X\"\u001b[0m\u001b[0;34m)\u001b[0m\u001b[0;34m,\u001b[0m \u001b[0;32mNone\u001b[0m\u001b[0;34m)\u001b[0m\u001b[0;34m,\u001b[0m\u001b[0mNodoArbol\u001b[0m\u001b[0;34m(\u001b[0m\u001b[0;34m\"C\"\u001b[0m\u001b[0;34m,\u001b[0m\u001b[0mNodoArbol2\u001b[0m\u001b[0;34m(\u001b[0m\u001b[0;34m\"Y\"\u001b[0m\u001b[0;34m)\u001b[0m\u001b[0;34m,\u001b[0m\u001b[0;32mNone\u001b[0m\u001b[0;34m,\u001b[0m\u001b[0;32mNone\u001b[0m\u001b[0;34m)\u001b[0m\u001b[0;34m,\u001b[0m\u001b[0mNodoArbol2\u001b[0m\u001b[0;34m(\u001b[0m\u001b[0;34m\"D\"\u001b[0m\u001b[0;34m,\u001b[0m \u001b[0mNodoArbol2\u001b[0m\u001b[0;34m(\u001b[0m\u001b[0;32mNone\u001b[0m\u001b[0;34m,\u001b[0m\u001b[0;32mNone\u001b[0m\u001b[0;34m,\u001b[0m\u001b[0mNodoArbol2\u001b[0m\u001b[0;34m(\u001b[0m\u001b[0;34m\"E\"\u001b[0m\u001b[0;34m)\u001b[0m\u001b[0;34m)\u001b[0m\u001b[0;34m)\u001b[0m\u001b[0;34m)\u001b[0m\u001b[0;34m\u001b[0m\u001b[0;34m\u001b[0m\u001b[0m\n\u001b[0m",
            "\u001b[0;31mTypeError\u001b[0m: __init__() takes from 2 to 4 positional arguments but 5 were given"
          ]
        }
      ]
    }
  ]
}