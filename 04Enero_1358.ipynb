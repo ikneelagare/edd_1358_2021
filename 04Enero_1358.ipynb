{
  "nbformat": 4,
  "nbformat_minor": 0,
  "metadata": {
    "colab": {
      "name": "04Enero_1358.ipynb",
      "provenance": [],
      "authorship_tag": "ABX9TyNPlHAtZu4VZkBDtZefA2y/",
      "include_colab_link": true
    },
    "kernelspec": {
      "name": "python3",
      "display_name": "Python 3"
    }
  },
  "cells": [
    {
      "cell_type": "markdown",
      "metadata": {
        "id": "view-in-github",
        "colab_type": "text"
      },
      "source": [
        "<a href=\"https://colab.research.google.com/github/ikneelagare/edd_1358_2021/blob/master/04Enero_1358.ipynb\" target=\"_parent\"><img src=\"https://colab.research.google.com/assets/colab-badge.svg\" alt=\"Open In Colab\"/></a>"
      ]
    },
    {
      "cell_type": "code",
      "metadata": {
        "id": "9nCHu2xfPPWI"
      },
      "source": [
        "class Queue:\r\n",
        "  def __init__(self):\r\n",
        "    self.__data = list()\r\n",
        "  def is_empty(self):\r\n",
        "    return len(self.__data) == 0\r\n",
        "  def lenght(self):\r\n",
        "    return lenght(self.___data)\r\n",
        "  def enqueue(self,item):\r\n",
        "    self.__data.append(item)\r\n",
        "  def dequeue(self):\r\n",
        "    if not self.is_empty():\r\n",
        "      print(self.__data.pop(0))\r\n",
        "    else:\r\n",
        "      return None\r\n",
        "  def to_string(self):\r\n",
        "    for i in self.__data:\r\n",
        "      print(f\"|{i}\",  end=\"\")\r\n",
        "    print(\"|\")\r\n",
        "\r\n"
      ],
      "execution_count": 26,
      "outputs": []
    },
    {
      "cell_type": "code",
      "metadata": {
        "colab": {
          "base_uri": "https://localhost:8080/"
        },
        "id": "nlajLweqRst2",
        "outputId": "2b575871-0b75-4ccc-c8f0-baec3c35efe3"
      },
      "source": [
        "cola = Queue()\r\n",
        "cola.enqueue(10)\r\n",
        "cola.enqueue(2)\r\n",
        "cola.enqueue(20)\r\n",
        "cola.enqueue(110)\r\n",
        "cola.enqueue(33)\r\n",
        "cola.to_string()\r\n",
        "#Agregar un elemento\r\n",
        "cola.enqueue(44)\r\n",
        "cola.to_string()\r\n",
        "#eliminar un elemento\r\n",
        "elem = cola.dequeue()\r\n",
        "print(f\"El elemtno retirado es {elem}\")\r\n",
        "cola.to_string()\r\n",
        "ghjeragg"
      ],
      "execution_count": 30,
      "outputs": [
        {
          "output_type": "stream",
          "text": [
            "|10|2|20|110|33|\n",
            "|10|2|20|110|33|44|\n",
            "10\n",
            "El elemtno retirado es None\n",
            "|2|20|110|33|44|\n"
          ],
          "name": "stdout"
        }
      ]
    },
    {
      "cell_type": "code",
      "metadata": {
        "id": "zT82_RnKU0U4"
      },
      "source": [
        "c1 = {\"id\" : 1, \"Nombre\" : \"Jose\", \"balance\" : 234564.99}\r\n",
        "c2 = {\"id\" : 1, \"Nombre\" : \"Maria\", \"balance\" : 2323.01}\r\n",
        "c3 = {\"id\" : 1, \"Nombre\" : \"Jesus\", \"balance\" : 333.53}\r\n",
        "queue = Queue()\r\n",
        "queue.enqueue(c1)\r\n",
        "queue.enqueue(c2)\r\n",
        "queue.enqueue(c3)\r\n",
        "a_atender = queue.enqueue(c1)"
      ],
      "execution_count": 37,
      "outputs": []
    }
  ]
}