{
  "nbformat": 4,
  "nbformat_minor": 0,
  "metadata": {
    "colab": {
      "name": "28Septiembre_1358.ipynb",
      "provenance": [],
      "collapsed_sections": [],
      "include_colab_link": true
    },
    "kernelspec": {
      "display_name": "Python 3",
      "name": "python3"
    }
  },
  "cells": [
    {
      "cell_type": "markdown",
      "metadata": {
        "id": "view-in-github",
        "colab_type": "text"
      },
      "source": [
        "<a href=\"https://colab.research.google.com/github/ikneelagare/edd_1358_2021/blob/master/28Septiembre_1358.ipynb\" target=\"_parent\"><img src=\"https://colab.research.google.com/assets/colab-badge.svg\" alt=\"Open In Colab\"/></a>"
      ]
    },
    {
      "cell_type": "code",
      "metadata": {
        "id": "9aDZ96T1lVg4",
        "outputId": "7f25e3d7-26cc-4f2e-ca9f-79c80f6e187a",
        "colab": {
          "base_uri": "https://localhost:8080/",
          "height": 34
        }
      },
      "source": [
        "print(\"Hola Colab research\")\n",
        "nombre = Luis\n",
        "val = 10"
      ],
      "execution_count": 1,
      "outputs": [
        {
          "output_type": "stream",
          "text": [
            "Hola colab\n"
          ],
          "name": "stdout"
        }
      ]
    },
    {
      "cell_type": "code",
      "metadata": {
        "id": "Z8jRBfFPpKnk"
      },
      "source": [
        "print(nombre)\n",
        "print(val)"
      ],
      "execution_count": null,
      "outputs": []
    },
    {
      "cell_type": "markdown",
      "metadata": {
        "id": "Fv948RwTnAAi"
      },
      "source": [
        ""
      ]
    },
    {
      "cell_type": "markdown",
      "metadata": {
        "id": "IOBnnrndnD5s"
      },
      "source": [
        "Hola esto es un ancabezado\n",
        "\n",
        "\n",
        "*   Elemento 1\n",
        "*   Elemento 2\n",
        "\n",
        "\n",
        "1.fresa\n",
        "2.manzana\n",
        "3.pera\n",
        "4.edad\n",
        "\n",
        "\n",
        "\n",
        "\n"
      ]
    },
    {
      "cell_type": "code",
      "metadata": {
        "id": "UqF0jvMLX5mz"
      },
      "source": [
        "class silla(object):\n",
        "  def __init__(self):\n",
        "    self.material = \"\"\n",
        "    self.color = \"\"\n",
        "  def to_string(self):\n",
        "    print(\"----------------\")\n",
        "    print(f\"Material: {self.material}\")\n",
        "    print(f\"{self.color} -----------\")  "
      ],
      "execution_count": 6,
      "outputs": []
    },
    {
      "cell_type": "code",
      "metadata": {
        "id": "hoO2H9jSqmj-",
        "outputId": "48d2ef2f-f2fe-423c-d998-bf6e754a0f70",
        "colab": {
          "base_uri": "https://localhost:8080/",
          "height": 68
        }
      },
      "source": [
        "obj = silla()\n",
        "obj.material = \"Madera\"\n",
        "obj.color = \"Rojo\"\n",
        "obj.to_string()"
      ],
      "execution_count": 7,
      "outputs": [
        {
          "output_type": "stream",
          "text": [
            "----------------\n",
            "Material: Madera\n",
            "Rojo -----------\n"
          ],
          "name": "stdout"
        }
      ]
    }
  ]
}