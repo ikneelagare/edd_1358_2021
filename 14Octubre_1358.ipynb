{
  "nbformat": 4,
  "nbformat_minor": 0,
  "metadata": {
    "colab": {
      "name": "14Octubre_1358.ipynb",
      "provenance": [],
      "authorship_tag": "ABX9TyPyzQip6cCOYQkebtWbfhsl",
      "include_colab_link": true
    },
    "kernelspec": {
      "name": "python3",
      "display_name": "Python 3"
    }
  },
  "cells": [
    {
      "cell_type": "markdown",
      "metadata": {
        "id": "view-in-github",
        "colab_type": "text"
      },
      "source": [
        "<a href=\"https://colab.research.google.com/github/ikneelagare/edd_1358_2021/blob/master/14Octubre_1358.ipynb\" target=\"_parent\"><img src=\"https://colab.research.google.com/assets/colab-badge.svg\" alt=\"Open In Colab\"/></a>"
      ]
    },
    {
      "cell_type": "code",
      "metadata": {
        "id": "xVzd-sW5pLpt",
        "outputId": "dfe954f2-ede6-4a13-edff-775d658df876",
        "colab": {
          "base_uri": "https://localhost:8080/",
          "height": 90
        }
      },
      "source": [
        "def calcular(a, b, c):\n",
        "  x = a + (b / c)\n",
        "  return x\n",
        "\n",
        "print(calcular(5, 9, 3))\n",
        "print(calcular(a = 5, b = 9, c = 3))  \n",
        "\n",
        "def calcular2(a  = 10, b = 12, c = 6):\n",
        "  x = a + (b / c)\n",
        "  return x \n",
        "\n",
        "print(calcular2())  \n",
        "print(calcular(25, 100, 4 ))"
      ],
      "execution_count": 5,
      "outputs": [
        {
          "output_type": "stream",
          "text": [
            "8.0\n",
            "8.0\n",
            "12.0\n",
            "50.0\n"
          ],
          "name": "stdout"
        }
      ]
    },
    {
      "cell_type": "markdown",
      "metadata": {
        "id": "pr7Qp1RnrwNp"
      },
      "source": [
        "# Argumento a funciones por tupla\n",
        "Se envian los argumentosen conjunto de elementos dentro de una tupla\n"
      ]
    },
    {
      "cell_type": "code",
      "metadata": {
        "id": "LydlN9SQr-j1",
        "outputId": "7dfdb4b7-3950-4e0a-f6e4-134347470b0f",
        "colab": {
          "base_uri": "https://localhost:8080/",
          "height": 54
        }
      },
      "source": [
        "def calculo( *elemento):\n",
        "  print(elemento)\n",
        "  x = elemento[0]  + (elemento[1] / elemento[2])\n",
        "  return x\n",
        "\n",
        "print(calculo(5,9,3))\n"
      ],
      "execution_count": 9,
      "outputs": [
        {
          "output_type": "stream",
          "text": [
            "(5, 9, 3)\n",
            "8.0\n"
          ],
          "name": "stdout"
        }
      ]
    },
    {
      "cell_type": "markdown",
      "metadata": {
        "id": "o8tI7kb3s0Kb"
      },
      "source": [
        "# Argumento como diccionario\n"
      ]
    },
    {
      "cell_type": "code",
      "metadata": {
        "id": "z6bGDfS2s3GI",
        "outputId": "c92de98a-421c-4e90-b9d6-3ed18c2c6b91",
        "colab": {
          "base_uri": "https://localhost:8080/",
          "height": 54
        }
      },
      "source": [
        "def calculo( **elemento ):\n",
        "  print(elemento)\n",
        "  x = elemento[\"a\"] + (elemento[\"b\"] / elemento[\"c\"])\n",
        "  return x\n",
        "\n",
        "print(calculo(a = 5, b = 9, c  = 3))"
      ],
      "execution_count": 11,
      "outputs": [
        {
          "output_type": "stream",
          "text": [
            "{'a': 5, 'b': 9, 'c': 3}\n",
            "8.0\n"
          ],
          "name": "stdout"
        }
      ]
    },
    {
      "cell_type": "markdown",
      "metadata": {
        "id": "2JAPDgEV2lCp"
      },
      "source": [
        "# Archivos\n",
        "- Abrirlos\n",
        " - Un str con la rutael arc\n",
        " - Dos caracteres:1->modo de apertura(r,w) y el formato (texto-BBinario)\n",
        "- Leerlos\n",
        "- Modificarlos"
      ]
    },
    {
      "cell_type": "code",
      "metadata": {
        "id": "2n_ydk1C36ve"
      },
      "source": [
        "\n",
        "archivo = open(\"ejemplo.txt\", \"wt\")\n",
        "archivo.write(\"Hola mundo de archivos\")\n",
        "archivo.close()"
      ],
      "execution_count": 19,
      "outputs": []
    },
    {
      "cell_type": "code",
      "metadata": {
        "id": "J3OHXTHW5Fb_",
        "outputId": "e20fa587-cf40-4b7d-f21d-1eacac48fdba",
        "colab": {
          "base_uri": "https://localhost:8080/",
          "height": 35
        }
      },
      "source": [
        "cat ejemplo.txt"
      ],
      "execution_count": 20,
      "outputs": [
        {
          "output_type": "stream",
          "text": [
            "Hola mundo de archivos"
          ],
          "name": "stdout"
        }
      ]
    },
    {
      "cell_type": "code",
      "metadata": {
        "id": "aY2-LJsr5U67"
      },
      "source": [
        "!(touch j.txt)\n"
      ],
      "execution_count": 15,
      "outputs": []
    },
    {
      "cell_type": "code",
      "metadata": {
        "id": "CXI67pZr6DxX"
      },
      "source": [
        "!(cat ejemplo.txt > otra.txt)"
      ],
      "execution_count": 21,
      "outputs": []
    }
  ]
}