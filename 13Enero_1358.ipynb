{
  "nbformat": 4,
  "nbformat_minor": 0,
  "metadata": {
    "colab": {
      "name": "13Enero_1358.ipynb",
      "provenance": [],
      "authorship_tag": "ABX9TyOdvNBt2DAFkIM3Q35Gqjyp",
      "include_colab_link": true
    },
    "kernelspec": {
      "name": "python3",
      "display_name": "Python 3"
    }
  },
  "cells": [
    {
      "cell_type": "markdown",
      "metadata": {
        "id": "view-in-github",
        "colab_type": "text"
      },
      "source": [
        "<a href=\"https://colab.research.google.com/github/ikneelagare/edd_1358_2021/blob/master/13Enero_1358.ipynb\" target=\"_parent\"><img src=\"https://colab.research.google.com/assets/colab-badge.svg\" alt=\"Open In Colab\"/></a>"
      ]
    },
    {
      "cell_type": "code",
      "metadata": {
        "colab": {
          "base_uri": "https://localhost:8080/"
        },
        "id": "WGRrxbwzrxCM",
        "outputId": "e61ffddf-0b32-487f-ab2a-d4bcedb01c94"
      },
      "source": [
        "def factorial( n ):\r\n",
        "    if n == 0:\r\n",
        "        return 1\r\n",
        "    else:\r\n",
        "        return factorial( n - 1 ) * n\r\n",
        "\r\n",
        "for num in range(21):\r\n",
        "    print( factorial(num) )"
      ],
      "execution_count": 1,
      "outputs": [
        {
          "output_type": "stream",
          "text": [
            "1\n",
            "1\n",
            "2\n",
            "6\n",
            "24\n",
            "120\n",
            "720\n",
            "5040\n",
            "40320\n",
            "362880\n",
            "3628800\n",
            "39916800\n",
            "479001600\n",
            "6227020800\n",
            "87178291200\n",
            "1307674368000\n",
            "20922789888000\n",
            "355687428096000\n",
            "6402373705728000\n",
            "121645100408832000\n",
            "2432902008176640000\n"
          ],
          "name": "stdout"
        }
      ]
    },
    {
      "cell_type": "code",
      "metadata": {
        "colab": {
          "base_uri": "https://localhost:8080/"
        },
        "id": "uxIMN3cytJSM",
        "outputId": "7d80b2c3-2d92-401b-9c78-a4d50ad84fcf"
      },
      "source": [
        "def printRev( n ):\r\n",
        "    if n > 0:\r\n",
        "        print( n )\r\n",
        "        printRev( n-1 )\r\n",
        "printRev( 3 )"
      ],
      "execution_count": 2,
      "outputs": [
        {
          "output_type": "stream",
          "text": [
            "3\n",
            "2\n",
            "1\n"
          ],
          "name": "stdout"
        }
      ]
    },
    {
      "cell_type": "code",
      "metadata": {
        "colab": {
          "base_uri": "https://localhost:8080/"
        },
        "id": "Oi3UVfd1uKem",
        "outputId": "7e78d24c-ad27-4892-9da3-5cfcfed154ba"
      },
      "source": [
        "def fibonacci(n):\r\n",
        "  if n == 0 :\r\n",
        "    return 0\r\n",
        "  elif n == 1:\r\n",
        "    return 1\r\n",
        "  elif n > 1:\r\n",
        "    return (fibonacci(n-1) + fibonacci(n-2))\r\n",
        "  else:\r\n",
        "    print(\"Valor fuera de rango\")\r\n",
        "\r\n",
        "for num in range(9):\r\n",
        "  print(fibonacci(num))"
      ],
      "execution_count": 3,
      "outputs": [
        {
          "output_type": "stream",
          "text": [
            "0\n",
            "1\n",
            "1\n",
            "2\n",
            "3\n",
            "5\n",
            "8\n",
            "13\n",
            "21\n"
          ],
          "name": "stdout"
        }
      ]
    }
  ]
}