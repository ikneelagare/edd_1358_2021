{
  "nbformat": 4,
  "nbformat_minor": 0,
  "metadata": {
    "colab": {
      "name": "Tarea07_1358.ipynb",
      "provenance": [],
      "authorship_tag": "ABX9TyPmBxT54uv/Jx6zlzgZFM5Z",
      "include_colab_link": true
    },
    "kernelspec": {
      "name": "python3",
      "display_name": "Python 3"
    }
  },
  "cells": [
    {
      "cell_type": "markdown",
      "metadata": {
        "id": "view-in-github",
        "colab_type": "text"
      },
      "source": [
        "<a href=\"https://colab.research.google.com/github/ikneelagare/edd_1358_2021/blob/master/Tarea07_1358.ipynb\" target=\"_parent\"><img src=\"https://colab.research.google.com/assets/colab-badge.svg\" alt=\"Open In Colab\"/></a>"
      ]
    },
    {
      "cell_type": "code",
      "metadata": {
        "id": "qp0lrPPjVLCD"
      },
      "source": [
        "class Stack:\n",
        "  def __init__(self):\n",
        "    self.__dato = []\n",
        "    self.__size = 0\n",
        "\n",
        "  def pop(self):\n",
        "    return self.__dato.pop()\n",
        "\n",
        "  def peek(self):\n",
        "    return self.__dato[-1]\n",
        "\n",
        "  def append(self,valor):\n",
        "    self.__dato.append(valor)\n",
        "    self.__size += 1\n",
        "\n",
        "  def to_string(self):\n",
        "    print(\"----\")\n",
        "    for data in self.__dato[::-1]:\n",
        "      print(f\"|{data}|\")\n",
        "      print(\"----\")"
      ],
      "execution_count": 4,
      "outputs": []
    },
    {
      "cell_type": "code",
      "metadata": {
        "colab": {
          "base_uri": "https://localhost:8080/"
        },
        "id": "nHnm3twKV7qz",
        "outputId": "ee0b4ec4-cc0f-422b-cc50-07db140cd4f4"
      },
      "source": [
        "#Aplicaciones estructura Stack\n",
        "#1.- Validacion de parentesis balanceados \"(\",\"{\",\"[\"\n",
        "\n",
        "\n",
        "\n",
        "cadena = \"b =  3 * (5 + (4/2))))\"#    <---------------Mas parentesis de cierre\n",
        "pila = Stack()\n",
        "pila.append(\"#\") #Caracter de pila vacia\n",
        "for elem in cadena:\n",
        "   \n",
        "   if elem == \"(\":\n",
        "     pila.append(\"*\")\n",
        "\n",
        "   elif elem == \")\":\n",
        "      n = pila.pop()\n",
        "      if n == \"#\":\n",
        "        pila.append(\"#\")\n",
        "        pila.append(\"*\")\n",
        "        break\n",
        "    \n",
        "   else:\n",
        "      pass\n",
        "if pila.peek() == \"#\":\n",
        "  print(\"La expresion esta balanceada por parentesis\") \n",
        "else:\n",
        "  print(\"La expresion no esta balnaceada\")"
      ],
      "execution_count": 19,
      "outputs": [
        {
          "output_type": "stream",
          "text": [
            "La expresion no esta balnaceada\n"
          ],
          "name": "stdout"
        }
      ]
    }
  ]
}