{
  "nbformat": 4,
  "nbformat_minor": 0,
  "metadata": {
    "colab": {
      "name": "Tarea08_1358.ipynb",
      "provenance": [],
      "authorship_tag": "ABX9TyO/fjsDpRsZAK+VFqHz1Ckp",
      "include_colab_link": true
    },
    "kernelspec": {
      "name": "python3",
      "display_name": "Python 3"
    }
  },
  "cells": [
    {
      "cell_type": "markdown",
      "metadata": {
        "id": "view-in-github",
        "colab_type": "text"
      },
      "source": [
        "<a href=\"https://colab.research.google.com/github/ikneelagare/edd_1358_2021/blob/master/Tarea08_1358.ipynb\" target=\"_parent\"><img src=\"https://colab.research.google.com/assets/colab-badge.svg\" alt=\"Open In Colab\"/></a>"
      ]
    },
    {
      "cell_type": "code",
      "metadata": {
        "id": "9nCHu2xfPPWI"
      },
      "source": [
        "class Queue:\r\n",
        "  def __init__(self):\r\n",
        "    self.__data = []\r\n",
        "  def is_empty(self):\r\n",
        "    return len(self.__data) == 0\r\n",
        "  def lenght(self):\r\n",
        "    return lenght(self.___data)\r\n",
        "  def enqueue(self,item):\r\n",
        "    self.__data.append(item)\r\n",
        "  def dequeue(self):\r\n",
        "    if not self.is_empty():\r\n",
        "      print(f\"El elemento retirado es {self.__data.pop(0)}\") \r\n",
        "    else:\r\n",
        "      return None\r\n",
        "  def to_string(self):\r\n",
        "    for i in self.__data:\r\n",
        "      print(f\"|{i}\",  end=\"\")\r\n",
        "    print(\"|\")\r\n",
        "\r\n"
      ],
      "execution_count": 54,
      "outputs": []
    },
    {
      "cell_type": "code",
      "metadata": {
        "colab": {
          "base_uri": "https://localhost:8080/"
        },
        "id": "nlajLweqRst2",
        "outputId": "fc99528f-f488-4914-c2b8-cdd2a8c91246"
      },
      "source": [
        "cola = Queue()\r\n",
        "cola.enqueue(10)\r\n",
        "cola.enqueue(2)\r\n",
        "cola.enqueue(20)\r\n",
        "cola.enqueue(110)\r\n",
        "cola.enqueue(33)\r\n",
        "cola.to_string()\r\n",
        "#Agregar un elemento\r\n",
        "cola.enqueue(44)\r\n",
        "cola.to_string()\r\n",
        "#eliminar un elemento\r\n",
        "elem = cola.dequeue()\r\n",
        "cola.to_string()\r\n"
      ],
      "execution_count": 55,
      "outputs": [
        {
          "output_type": "stream",
          "text": [
            "|10|2|20|110|33|\n",
            "|10|2|20|110|33|44|\n",
            "El elemento retirado es 10\n",
            "|2|20|110|33|44|\n"
          ],
          "name": "stdout"
        }
      ]
    }
  ]
}