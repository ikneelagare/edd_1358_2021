{
  "nbformat": 4,
  "nbformat_minor": 0,
  "metadata": {
    "colab": {
      "name": "Tarea10_1358.ipynb",
      "provenance": [],
      "authorship_tag": "ABX9TyPJ9o8ZckxseSfMQ+7xe44J",
      "include_colab_link": true
    },
    "kernelspec": {
      "name": "python3",
      "display_name": "Python 3"
    }
  },
  "cells": [
    {
      "cell_type": "markdown",
      "metadata": {
        "id": "view-in-github",
        "colab_type": "text"
      },
      "source": [
        "<a href=\"https://colab.research.google.com/github/ikneelagare/edd_1358_2021/blob/master/Tarea10_1358.ipynb\" target=\"_parent\"><img src=\"https://colab.research.google.com/assets/colab-badge.svg\" alt=\"Open In Colab\"/></a>"
      ]
    },
    {
      "cell_type": "code",
      "metadata": {
        "colab": {
          "base_uri": "https://localhost:8080/"
        },
        "id": "OqLn-L0dQpXL",
        "outputId": "f8022ac7-5e89-4c34-e77f-e0c1f79aebcd"
      },
      "source": [
        "def suma_recursiva(n):\r\n",
        "  if n == 1:\r\n",
        "    print(1)\r\n",
        "  else:\r\n",
        "    print(n + suma_recursiva(n - 1))\r\n",
        "\r\n",
        "list = [1,2,3,4,5,6,7,8,9,10]\r\n",
        "\r\n",
        "for i in list:\r\n",
        "  print(suma_recursiva(i))"
      ],
      "execution_count": null,
      "outputs": [
        {
          "output_type": "stream",
          "text": [
            "1\n",
            "3\n",
            "6\n",
            "10\n",
            "15\n",
            "21\n",
            "28\n",
            "36\n",
            "45\n",
            "55\n"
          ],
          "name": "stdout"
        }
      ]
    },
    {
      "cell_type": "code",
      "metadata": {
        "colab": {
          "base_uri": "https://localhost:8080/"
        },
        "id": "PpvLI7CTQtKf",
        "outputId": "bcc74a5c-95bc-4a6e-840f-bcd28c63c68c"
      },
      "source": [
        "def contador_regresivo_recursivo(n):\r\n",
        "  if n == 0:\r\n",
        "   print(0)\r\n",
        "  elif n > 0:\r\n",
        "    print(n)\r\n",
        "    contador_regresivo_recursivo(n-1)\r\n",
        "\r\n",
        "contador_regresivo_recursivo(20)"
      ],
      "execution_count": null,
      "outputs": [
        {
          "output_type": "stream",
          "text": [
            "20\n",
            "19\n",
            "18\n",
            "17\n",
            "16\n",
            "15\n",
            "14\n",
            "13\n",
            "12\n",
            "11\n",
            "10\n",
            "9\n",
            "8\n",
            "7\n",
            "6\n",
            "5\n",
            "4\n",
            "3\n",
            "2\n",
            "1\n",
            "0\n"
          ],
          "name": "stdout"
        }
      ]
    },
    {
      "cell_type": "code",
      "metadata": {
        "id": "ElTef8Y_xc51"
      },
      "source": [
        "class Queue:\r\n",
        "  def __init__(self):\r\n",
        "    self.__data = []\r\n",
        "    self.__size = 0\r\n",
        "  def is_empty(self):\r\n",
        "    return self.__size == 0\r\n",
        "  def lenght(self):\r\n",
        "    return self.__size\r\n",
        "  def enqueue(self,item):\r\n",
        "    self.__data.append(item)\r\n",
        "    self.__size += 1\r\n",
        "\r\n",
        "  def dequeue(self):\r\n",
        "    if not self.is_empty():\r\n",
        "      print(f\"El elemento retirado es {self.__data.pop(0)}\") \r\n",
        "      self.__size += 1\r\n",
        "    else:\r\n",
        "      return None\r\n",
        "\r\n",
        "  def posicion_media(self):\r\n",
        "    \r\n",
        "    num = (self.__size) - 1\r\n",
        "    num2 = num // 2\r\n",
        "    print(self.__data.pop(num2))\r\n",
        "\r\n",
        "  def to_string(self):\r\n",
        "    for i in self.__data:\r\n",
        "      print(f\"|{i}\", end=\"\")\r\n",
        "    print(\"|\")\r\n"
      ],
      "execution_count": 24,
      "outputs": []
    },
    {
      "cell_type": "code",
      "metadata": {
        "colab": {
          "base_uri": "https://localhost:8080/"
        },
        "id": "xVLgZqLgaj1G",
        "outputId": "f54f8ff0-4054-4a9c-8ebb-ff8c8b298e06"
      },
      "source": [
        "cola = Queue()\r\n",
        "cola.enqueue(10)\r\n",
        "cola.enqueue(2)\r\n",
        "cola.enqueue(20)\r\n",
        "cola.enqueue(110)\r\n",
        "cola.enqueue(33)\r\n",
        "cola.to_string()\r\n",
        "cola.posicion_media()\r\n",
        "cola.to_string()"
      ],
      "execution_count": 26,
      "outputs": [
        {
          "output_type": "stream",
          "text": [
            "|10|2|20|110|33|\n",
            "20\n",
            "|10|2|110|33|\n"
          ],
          "name": "stdout"
        }
      ]
    }
  ]
}