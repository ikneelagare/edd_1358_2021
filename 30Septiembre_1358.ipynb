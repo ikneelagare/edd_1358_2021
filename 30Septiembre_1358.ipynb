{
  "nbformat": 4,
  "nbformat_minor": 0,
  "metadata": {
    "colab": {
      "name": "30Septiembre_1358.ipynb",
      "provenance": [],
      "authorship_tag": "ABX9TyNuvwnocxP5EnL4FNcm496i",
      "include_colab_link": true
    },
    "kernelspec": {
      "name": "python3",
      "display_name": "Python 3"
    }
  },
  "cells": [
    {
      "cell_type": "markdown",
      "metadata": {
        "id": "view-in-github",
        "colab_type": "text"
      },
      "source": [
        "<a href=\"https://colab.research.google.com/github/ikneelagare/edd_1358_2021/blob/master/30Septiembre_1358.ipynb\" target=\"_parent\"><img src=\"https://colab.research.google.com/assets/colab-badge.svg\" alt=\"Open In Colab\"/></a>"
      ]
    },
    {
      "cell_type": "code",
      "metadata": {
        "id": "N5PDJVHosffU"
      },
      "source": [
        ""
      ],
      "execution_count": null,
      "outputs": []
    },
    {
      "cell_type": "markdown",
      "metadata": {
        "id": "m7yZWtjSsq5q"
      },
      "source": [
        "# Fuendamentos de Python 3\n",
        "### Tipos de datos basicos\n",
        "\n",
        "Edad = 19  Nombre = \"Luis\"\n",
        "Estatura = 1.65\n",
        "Tiene_ine = True\n",
        "\n",
        "###Compuestos\n",
        "\n",
        "#### Listas\n",
        "Son mutables\n",
        "Se accede via indice\n",
        "lista.ejemplo = [\"manzana\",1.57,True.[\"rojo\",\"azul\"]\n",
        "#### Tuplas\n",
        "Son inmutables\n",
        "Se accede a los elementos via incdice\n",
        "los elementos pueden ser de diferente tipo\n",
        "#### Diccionarios\n",
        "Son equivalentes a los JSON de JS\n",
        "#### Sets\n",
        "Son datos agrupados\n",
        "\n",
        "\n",
        "\n"
      ]
    },
    {
      "cell_type": "code",
      "metadata": {
        "id": "Uc9oVmfKu8Fx",
        "outputId": "26da46cb-1678-4ea7-dffc-4ecbbd0e1894",
        "colab": {
          "base_uri": "https://localhost:8080/",
          "height": 221
        }
      },
      "source": [
        "lista_ejemplo = [\"manzana\", 1.65, True, [\"rojo\", \"azul\"]]\n",
        "print(lista_ejemplo[1])\n",
        "print(lista_ejemplo[3])\n",
        "print(lista_ejemplo[3][1])\n",
        "lista_ejemplo[0] = \"Naranja\"\n",
        "print(lista_ejemplo)\n",
        "#Agregar un alemento al final de una lista\n",
        "lista_ejemplo.append(\"iphone\")\n",
        "print(lista_ejemplo)\n",
        "#Sacar el ultimo valor de la lista\n",
        "valor = lista_ejemplo.pop()\n",
        "print(valor)\n",
        "print(lista_ejemplo)\n",
        "\n",
        "#Documento de tipo lista dir() y help()\n",
        "print(\"--------------------\")\n",
        "\n",
        "lista_ejemplo.insert(1,\"Huawei\")\n",
        "print(lista_ejemplo)\n",
        "\n",
        "conteo = lista_ejemplo.count(\"Huawei\")\n",
        "print(conteo)\n",
        "\n",
        "colores = [\"Rosa\",\"Fucsia\",\"Negro\"]\n",
        "\n",
        "lista_ejemplo.append(colores)\n",
        "print(lista_ejemplo)\n",
        "\n",
        "lista_ejemplo.extend(colores)\n",
        "print(lista_ejemplo)\n",
        "\n",
        "\n"
      ],
      "execution_count": 2,
      "outputs": [
        {
          "output_type": "stream",
          "text": [
            "1.65\n",
            "['rojo', 'azul']\n",
            "azul\n",
            "['Naranja', 1.65, True, ['rojo', 'azul']]\n",
            "['Naranja', 1.65, True, ['rojo', 'azul'], 'iphone']\n",
            "iphone\n",
            "['Naranja', 1.65, True, ['rojo', 'azul']]\n",
            "--------------------\n",
            "['Naranja', 'Huawei', 1.65, True, ['rojo', 'azul']]\n",
            "1\n",
            "['Naranja', 'Huawei', 1.65, True, ['rojo', 'azul'], ['Rosa', 'Fucsia', 'Negro']]\n",
            "['Naranja', 'Huawei', 1.65, True, ['rojo', 'azul'], ['Rosa', 'Fucsia', 'Negro'], 'Rosa', 'Fucsia', 'Negro']\n"
          ],
          "name": "stdout"
        }
      ]
    }
  ]
}