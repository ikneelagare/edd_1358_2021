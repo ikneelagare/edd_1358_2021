{
  "nbformat": 4,
  "nbformat_minor": 0,
  "metadata": {
    "colab": {
      "name": "23Noviembre_1358.ipynb",
      "provenance": [],
      "authorship_tag": "ABX9TyMv9UIwZQv4NfX0kaIBH8ON",
      "include_colab_link": true
    },
    "kernelspec": {
      "name": "python3",
      "display_name": "Python 3"
    }
  },
  "cells": [
    {
      "cell_type": "markdown",
      "metadata": {
        "id": "view-in-github",
        "colab_type": "text"
      },
      "source": [
        "<a href=\"https://colab.research.google.com/github/ikneelagare/edd_1358_2021/blob/master/Tarea4_1358.ipynb\" target=\"_parent\"><img src=\"https://colab.research.google.com/assets/colab-badge.svg\" alt=\"Open In Colab\"/></a>"
      ]
    },
    {
      "cell_type": "code",
      "metadata": {
        "id": "Hd2yEnl58ylf"
      },
      "source": [
        "class Nodo:\n",
        "    def __init__( self ,  dato, siguiente = None):\n",
        "        self.dato= dato\n",
        "        self.siguiente = siguiente\n",
        "\n",
        "class Linkedlist:\n",
        "    def __init__(self):\n",
        "        self.__head = None\n",
        "#regresa la lista si esta vacia\n",
        "    def is_empty(self):\n",
        "        return self.__head == None\n",
        "\n",
        "    def tail(self):\n",
        "        curr_node = self.__head\n",
        "        while curr_node != None  and curr_node.siguiente != None:\n",
        "            curr_node = curr_node.siguiente\n",
        "        return curr_node\n",
        "\n",
        "    def append (self, value) :\n",
        "        nuevo = Nodo(value)\n",
        "        if self.__head == None:\n",
        "            self.__head = nuevo\n",
        "        else:\n",
        "            self.tail().siguiente = nuevo\n",
        "\n",
        "    def transversal(self):\n",
        "        curr_node = self.__head\n",
        "        if curr_node == None:\n",
        "            print(\"lista vacia\")\n",
        "        else:\n",
        "            while curr_node != None :\n",
        "                print(f\"{curr_node.dato}-->\", end=\"\")\n",
        "                curr_node = curr_node.siguiente\n",
        "        print(\"\")\n",
        "#agregar un nodo al inicio\n",
        "    def prepend( self, value):\n",
        "        nuevo = Nodo (value)\n",
        "        if self.__head == None:\n",
        "            self.__head == nuevo\n",
        "        else:\n",
        "            x = self.__head\n",
        "            self.__head = nuevo\n",
        "            nuevo.siguiente = x\n",
        "\"\"\"-------------------Tarea-------------------\"\"\"            \n",
        "#remover un nodo por valor\n",
        "    def remove(self,valor):\n",
        "      if self.__head == None:\n",
        "        print(\"error\")\n",
        "      else:\n",
        "        curr_node = self.__head\n",
        "        if curr_node.dato == valor:\n",
        "          remover_nodo = curr_node\n",
        "          curr_node = remover_nodo.siguiente\n",
        "          \n",
        "        else:\n",
        "          try:\n",
        "            while curr_node.siguiente.dato != valor:\n",
        "             curr_node = curr_node.siguiente\n",
        "          \n",
        "            remover_nodo = curr_node.siguiente\n",
        "            curr_node.siguiente = remover_nodo.siguiente\n",
        "          except AttributeError:\n",
        "            return \"El nodo no se encuentra\"\n",
        "      return \"El nodo eliminado fue: \", valor\n",
        "\n",
        "#Remover un nodo por posicion\n",
        "     \n",
        "    def pop(self,indice = None):\n",
        "       self.indice = indice \n",
        "       curr_node = self.__head\n",
        "       #Sin especificar el indice\n",
        "       if indice == None:         \n",
        "         while curr_node.siguiente.siguiente != None:\n",
        "           curr_node = curr_node.siguiente\n",
        "         remover_nodo = curr_node.siguiente\n",
        "         curr_node.siguiente = curr_node.siguiente.siguiente\n",
        "         print(remover_nodo.dato)\n",
        "       #Especificando el indice\n",
        "       else:\n",
        "        \n",
        "         contador = 0\n",
        "         while contador != indice:\n",
        "           curr_node = curr_node.siguiente\n",
        "           contador += 1\n",
        "         remover_nodo = curr_node\n",
        "         curr_node = Nodo(remover_nodo.siguiente.dato) \n",
        "         print(remover_nodo.dato)       \n",
        "         \n",
        "         "
      ],
      "execution_count": 33,
      "outputs": []
    },
    {
      "cell_type": "code",
      "metadata": {
        "colab": {
          "base_uri": "https://localhost:8080/"
        },
        "id": "jpODewa8HiM9",
        "outputId": "b0f00685-22b6-4cea-d3b6-a0b816f88f78"
      },
      "source": [
        "l = Linkedlist()\n",
        "print(f\"l esta vacia? =  {l.is_empty()}\")\n",
        "x = l.tail()\n",
        "print(x)\n",
        "l.append(10)\n",
        "l.append(20)\n",
        "l.append(30)\n",
        "l.append(40)\n",
        "l.append(50)\n",
        "\n",
        "print(f\"Ta Vacia?: {l.is_empty()}\")\n",
        "y = l.tail()\n",
        "print(y)\n",
        "\n",
        "l.transversal()\n",
        "l.prepend(5)\n",
        "l.transversal()\n",
        "print(\"--------------Tarea-------------\")\n",
        "l.transversal()\n",
        "l.remove(40)\n",
        "l.transversal()\n",
        "l.pop()\n",
        "l.transversal()\n",
        "l.pop(1)\n",
        "l.transversal()\n",
        "\n"
      ],
      "execution_count": 35,
      "outputs": [
        {
          "output_type": "stream",
          "text": [
            "l esta vacia? =  True\n",
            "None\n",
            "Ta Vacia?: False\n",
            "<__main__.Nodo object at 0x7fbac08414a8>\n",
            "10-->20-->30-->40-->50-->\n",
            "5-->10-->20-->30-->40-->50-->\n",
            "--------------Tarea-------------\n",
            "5-->10-->20-->30-->40-->50-->\n",
            "5-->10-->20-->30-->50-->\n",
            "50\n",
            "5-->10-->20-->30-->\n",
            "10\n",
            "5-->10-->20-->30-->\n"
          ],
          "name": "stdout"
        }
      ]
    }
  ]
}